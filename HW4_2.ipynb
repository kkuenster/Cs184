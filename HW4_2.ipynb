{
 "cells": [
  {
   "cell_type": "code",
   "execution_count": 34,
   "id": "8be861cf",
   "metadata": {},
   "outputs": [
    {
     "name": "stdout",
     "output_type": "stream",
     "text": [
      "      0    1   2   3    4     5      6   7  8\n",
      "0     6  148  72  35    0  33.6  0.627  50  1\n",
      "1     1   85  66  29    0  26.6  0.351  31  0\n",
      "2     8  183  64   0    0  23.3  0.672  32  1\n",
      "3     1   89  66  23   94  28.1  0.167  21  0\n",
      "4     0  137  40  35  168  43.1  2.288  33  1\n",
      "..   ..  ...  ..  ..  ...   ...    ...  .. ..\n",
      "763  10  101  76  48  180  32.9  0.171  63  0\n",
      "764   2  122  70  27    0  36.8  0.340  27  0\n",
      "765   5  121  72  23  112  26.2  0.245  30  0\n",
      "766   1  126  60   0    0  30.1  0.349  47  1\n",
      "767   1   93  70  31    0  30.4  0.315  23  0\n",
      "\n",
      "[768 rows x 9 columns]\n",
      "(768, 9)\n"
     ]
    }
   ],
   "source": [
    "from keras.models import Sequential\n",
    "from keras.layers import Dense\n",
    "import pandas as pd\n",
    "from sklearn.model_selection import train_test_split\n",
    "\n",
    "df=pd.read_csv(\"prima-indians-diabetes.csv\", header=None) #read in csv and print\n",
    "print(df)\n",
    "print(df.shape)#print shape of the dataframe\n",
    "x=df.iloc[:,:-1].values #convert to array\n",
    "y=df.iloc[:,-1].values\n",
    "xTrain, xTest, yTrain, yTest = train_test_split(x, y, test_size=0.25, random_state=123) #split intop test and train"
   ]
  },
  {
   "cell_type": "code",
   "execution_count": 35,
   "id": "6c30e6af",
   "metadata": {},
   "outputs": [
    {
     "name": "stdout",
     "output_type": "stream",
     "text": [
      "Relu with sgd and epochs=10\n",
      "\n",
      "Epoch 1/10\n",
      "9/9 [==============================] - 0s 991us/step - loss: 15.1049 - accuracy: 0.5521\n",
      "Epoch 2/10\n",
      "9/9 [==============================] - 0s 1ms/step - loss: 0.8053 - accuracy: 0.6406\n",
      "Epoch 3/10\n",
      "9/9 [==============================] - 0s 1ms/step - loss: 0.7075 - accuracy: 0.6406\n",
      "Epoch 4/10\n",
      "9/9 [==============================] - 0s 1ms/step - loss: 0.6895 - accuracy: 0.6615\n",
      "Epoch 5/10\n",
      "9/9 [==============================] - 0s 1ms/step - loss: 0.6866 - accuracy: 0.6510\n",
      "Epoch 6/10\n",
      "9/9 [==============================] - 0s 876us/step - loss: 0.6652 - accuracy: 0.6667\n",
      "Epoch 7/10\n",
      "9/9 [==============================] - 0s 804us/step - loss: 0.6524 - accuracy: 0.6510\n",
      "Epoch 8/10\n",
      "9/9 [==============================] - 0s 789us/step - loss: 0.6580 - accuracy: 0.6406\n",
      "Epoch 9/10\n",
      "9/9 [==============================] - 0s 755us/step - loss: 0.6427 - accuracy: 0.6615\n",
      "Epoch 10/10\n",
      "9/9 [==============================] - 0s 790us/step - loss: 0.6498 - accuracy: 0.6389\n",
      "576/576 [==============================] - 0s 616us/step - loss: 0.6301 - accuracy: 0.6580\n",
      "Train Accuracy:  [0.6300627589225769, 0.6579861044883728]\n",
      "192/192 [==============================] - 0s 619us/step - loss: 0.6902 - accuracy: 0.6562\n",
      "Test Accuracy:  [0.690182626247406, 0.65625]\n"
     ]
    }
   ],
   "source": [
    "print(\"Relu with sgd and epochs=10\\n\")\n",
    "modelR1 = Sequential()\n",
    "modelR1.add(Dense(12, input_dim=8, activation=\"relu\"))\n",
    "modelR1.add(Dense(1, activation=\"sigmoid\"))\n",
    "modelR1.compile(loss='binary_crossentropy', optimizer='sgd', metrics=[\"accuracy\"])\n",
    "modelR1.fit(xTrain, yTrain, epochs=10, batch_size=64)\n",
    "print(\"Train Accuracy: \", modelR1.evaluate(xTrain, yTrain, batch_size=1))\n",
    "print(\"Test Accuracy: \", modelR1.evaluate(xTest, yTest, batch_size=1))"
   ]
  },
  {
   "cell_type": "code",
   "execution_count": 36,
   "id": "15ff4f72",
   "metadata": {},
   "outputs": [
    {
     "name": "stdout",
     "output_type": "stream",
     "text": [
      "Sigmoid with sgd and epochs=10\n",
      "\n",
      "Epoch 1/10\n",
      "9/9 [==============================] - 0s 1ms/step - loss: 0.6867 - accuracy: 0.6615\n",
      "Epoch 2/10\n",
      "9/9 [==============================] - 0s 1ms/step - loss: 0.6759 - accuracy: 0.6615\n",
      "Epoch 3/10\n",
      "9/9 [==============================] - 0s 1ms/step - loss: 0.6689 - accuracy: 0.6615\n",
      "Epoch 4/10\n",
      "9/9 [==============================] - 0s 1ms/step - loss: 0.6640 - accuracy: 0.6615\n",
      "Epoch 5/10\n",
      "9/9 [==============================] - 0s 809us/step - loss: 0.6602 - accuracy: 0.6615\n",
      "Epoch 6/10\n",
      "9/9 [==============================] - 0s 777us/step - loss: 0.6566 - accuracy: 0.6615\n",
      "Epoch 7/10\n",
      "9/9 [==============================] - 0s 810us/step - loss: 0.6533 - accuracy: 0.6615\n",
      "Epoch 8/10\n",
      "9/9 [==============================] - 0s 783us/step - loss: 0.6500 - accuracy: 0.6615\n",
      "Epoch 9/10\n",
      "9/9 [==============================] - 0s 824us/step - loss: 0.6471 - accuracy: 0.6615\n",
      "Epoch 10/10\n",
      "9/9 [==============================] - 0s 758us/step - loss: 0.6453 - accuracy: 0.6615\n",
      "576/576 [==============================] - 0s 596us/step - loss: 0.6438 - accuracy: 0.6615\n",
      "Train Accuracy:  [0.6438104510307312, 0.6614583134651184]\n",
      "192/192 [==============================] - 0s 613us/step - loss: 0.6834 - accuracy: 0.6198\n",
      "Test Accuracy:  [0.6834330558776855, 0.6197916865348816]\n"
     ]
    }
   ],
   "source": [
    "print(\"Sigmoid with sgd and epochs=10\\n\")\n",
    "modelR2 = Sequential()\n",
    "modelR2.add(Dense(12, input_dim=8, activation=\"sigmoid\"))\n",
    "modelR2.add(Dense(1, activation=\"sigmoid\"))\n",
    "modelR2.compile(loss='binary_crossentropy', optimizer='sgd', metrics=[\"accuracy\"])\n",
    "modelR2.fit(xTrain, yTrain, epochs=10, batch_size=64)\n",
    "print(\"Train Accuracy: \", modelR2.evaluate(xTrain, yTrain, batch_size=1))\n",
    "print(\"Test Accuracy: \", modelR2.evaluate(xTest, yTest, batch_size=1))"
   ]
  },
  {
   "cell_type": "code",
   "execution_count": 37,
   "id": "27eb5d16",
   "metadata": {},
   "outputs": [
    {
     "name": "stdout",
     "output_type": "stream",
     "text": [
      "Relu with adam and epochs=10\n",
      "\n",
      "Epoch 1/10\n",
      "9/9 [==============================] - 0s 1ms/step - loss: 6.7827 - accuracy: 0.6424\n",
      "Epoch 2/10\n",
      "9/9 [==============================] - 0s 1ms/step - loss: 5.4060 - accuracy: 0.6406\n",
      "Epoch 3/10\n",
      "9/9 [==============================] - 0s 1ms/step - loss: 4.0754 - accuracy: 0.6372\n",
      "Epoch 4/10\n",
      "9/9 [==============================] - 0s 989us/step - loss: 3.3153 - accuracy: 0.6076\n",
      "Epoch 5/10\n",
      "9/9 [==============================] - 0s 949us/step - loss: 2.8679 - accuracy: 0.5955\n",
      "Epoch 6/10\n",
      "9/9 [==============================] - 0s 1ms/step - loss: 2.5509 - accuracy: 0.5799\n",
      "Epoch 7/10\n",
      "9/9 [==============================] - 0s 910us/step - loss: 2.3572 - accuracy: 0.5556\n",
      "Epoch 8/10\n",
      "9/9 [==============================] - 0s 861us/step - loss: 2.1387 - accuracy: 0.5764\n",
      "Epoch 9/10\n",
      "9/9 [==============================] - 0s 924us/step - loss: 1.9732 - accuracy: 0.5885\n",
      "Epoch 10/10\n",
      "9/9 [==============================] - 0s 824us/step - loss: 1.8183 - accuracy: 0.5764\n",
      "576/576 [==============================] - 0s 599us/step - loss: 1.7310 - accuracy: 0.5816\n",
      "Train Accuracy:  [1.7310081720352173, 0.5815972089767456]\n",
      "192/192 [==============================] - 0s 605us/step - loss: 1.3697 - accuracy: 0.6302\n",
      "Test Accuracy:  [1.3696898221969604, 0.6302083134651184]\n"
     ]
    }
   ],
   "source": [
    "print(\"Relu with adam and epochs=10\\n\")\n",
    "modelR3 = Sequential()\n",
    "modelR3.add(Dense(12, input_dim=8, activation=\"relu\"))\n",
    "modelR3.add(Dense(1, activation=\"sigmoid\"))\n",
    "modelR3.compile(loss='binary_crossentropy', optimizer='adam', metrics=[\"accuracy\"])\n",
    "modelR3.fit(xTrain, yTrain, epochs=10, batch_size=64)\n",
    "print(\"Train Accuracy: \", modelR3.evaluate(xTrain, yTrain, batch_size=1))\n",
    "print(\"Test Accuracy: \", modelR3.evaluate(xTest, yTest, batch_size=1))"
   ]
  },
  {
   "cell_type": "code",
   "execution_count": 38,
   "id": "b1f2b453",
   "metadata": {},
   "outputs": [
    {
     "name": "stdout",
     "output_type": "stream",
     "text": [
      "Sigmoid with adam and epochs=10\n",
      "\n",
      "Epoch 1/10\n",
      "9/9 [==============================] - 0s 1ms/step - loss: 0.6759 - accuracy: 0.6372\n",
      "Epoch 2/10\n",
      "9/9 [==============================] - 0s 1ms/step - loss: 0.6644 - accuracy: 0.6562\n",
      "Epoch 3/10\n",
      "9/9 [==============================] - 0s 1ms/step - loss: 0.6557 - accuracy: 0.6597\n",
      "Epoch 4/10\n",
      "9/9 [==============================] - 0s 971us/step - loss: 0.6502 - accuracy: 0.6615\n",
      "Epoch 5/10\n",
      "9/9 [==============================] - 0s 1ms/step - loss: 0.6464 - accuracy: 0.6615\n",
      "Epoch 6/10\n",
      "9/9 [==============================] - 0s 1ms/step - loss: 0.6438 - accuracy: 0.6615\n",
      "Epoch 7/10\n",
      "9/9 [==============================] - 0s 907us/step - loss: 0.6415 - accuracy: 0.6615\n",
      "Epoch 8/10\n",
      "9/9 [==============================] - 0s 1ms/step - loss: 0.6397 - accuracy: 0.6615\n",
      "Epoch 9/10\n",
      "9/9 [==============================] - 0s 1ms/step - loss: 0.6380 - accuracy: 0.6615\n",
      "Epoch 10/10\n",
      "9/9 [==============================] - 0s 767us/step - loss: 0.6371 - accuracy: 0.6615\n",
      "576/576 [==============================] - 0s 599us/step - loss: 0.6360 - accuracy: 0.6615\n",
      "Train Accuracy:  [0.6359850168228149, 0.6614583134651184]\n",
      "192/192 [==============================] - 0s 602us/step - loss: 0.6597 - accuracy: 0.6198\n",
      "Test Accuracy:  [0.6597191095352173, 0.6197916865348816]\n"
     ]
    }
   ],
   "source": [
    "print(\"Sigmoid with adam and epochs=10\\n\")\n",
    "modelR4 = Sequential()\n",
    "modelR4.add(Dense(12, input_dim=8, activation=\"sigmoid\"))\n",
    "modelR4.add(Dense(1, activation=\"sigmoid\"))\n",
    "modelR4.compile(loss='binary_crossentropy', optimizer='adam', metrics=[\"accuracy\"])\n",
    "modelR4.fit(xTrain, yTrain, epochs=10, batch_size=64)\n",
    "print(\"Train Accuracy: \", modelR4.evaluate(xTrain, yTrain, batch_size=1))\n",
    "print(\"Test Accuracy: \", modelR4.evaluate(xTest, yTest, batch_size=1))"
   ]
  },
  {
   "cell_type": "code",
   "execution_count": 39,
   "id": "ce9f9d60",
   "metadata": {},
   "outputs": [
    {
     "name": "stdout",
     "output_type": "stream",
     "text": [
      "Relu with sgd and epochs=15\n",
      "\n",
      "Epoch 1/15\n",
      "9/9 [==============================] - 0s 1ms/step - loss: 16.0342 - accuracy: 0.5365\n",
      "Epoch 2/15\n",
      "9/9 [==============================] - 0s 835us/step - loss: 0.8012 - accuracy: 0.5365\n",
      "Epoch 3/15\n",
      "9/9 [==============================] - 0s 834us/step - loss: 0.7386 - accuracy: 0.6146\n",
      "Epoch 4/15\n",
      "9/9 [==============================] - 0s 789us/step - loss: 0.7273 - accuracy: 0.6146\n",
      "Epoch 5/15\n",
      "9/9 [==============================] - 0s 818us/step - loss: 0.7319 - accuracy: 0.6111\n",
      "Epoch 6/15\n",
      "9/9 [==============================] - 0s 777us/step - loss: 0.7311 - accuracy: 0.6059\n",
      "Epoch 7/15\n",
      "9/9 [==============================] - 0s 798us/step - loss: 0.7035 - accuracy: 0.6319\n",
      "Epoch 8/15\n",
      "9/9 [==============================] - 0s 817us/step - loss: 0.6938 - accuracy: 0.6389\n",
      "Epoch 9/15\n",
      "9/9 [==============================] - 0s 756us/step - loss: 0.6885 - accuracy: 0.6424\n",
      "Epoch 10/15\n",
      "9/9 [==============================] - 0s 785us/step - loss: 0.6871 - accuracy: 0.6493\n",
      "Epoch 11/15\n",
      "9/9 [==============================] - 0s 744us/step - loss: 0.6798 - accuracy: 0.6528\n",
      "Epoch 12/15\n",
      "9/9 [==============================] - 0s 882us/step - loss: 0.6844 - accuracy: 0.6562\n",
      "Epoch 13/15\n",
      "9/9 [==============================] - 0s 769us/step - loss: 0.6825 - accuracy: 0.6545\n",
      "Epoch 14/15\n",
      "9/9 [==============================] - 0s 844us/step - loss: 0.6756 - accuracy: 0.6562\n",
      "Epoch 15/15\n",
      "9/9 [==============================] - 0s 702us/step - loss: 0.6712 - accuracy: 0.6493\n",
      "576/576 [==============================] - 0s 603us/step - loss: 0.6644 - accuracy: 0.6545\n",
      "Train Accuracy: [0.6643528938293457, 0.6545138955116272]\n",
      "192/192 [==============================] - 0s 613us/step - loss: 0.7001 - accuracy: 0.6250\n",
      "Test Accuracy: [0.700051486492157, 0.625]\n"
     ]
    }
   ],
   "source": [
    "print(\"Relu with sgd and epochs=15\\n\")\n",
    "modelR5 = Sequential()\n",
    "modelR5.add(Dense(12, input_dim=8, activation=\"relu\"))\n",
    "modelR5.add(Dense(1, activation=\"sigmoid\"))\n",
    "modelR5.compile(loss=\"binary_crossentropy\", optimizer=\"sgd\", metrics=[\"accuracy\"])\n",
    "modelR5.fit(xTrain, yTrain, epochs=15, batch_size=64)\n",
    "print(\"Train Accuracy:\", modelR5.evaluate(xTrain, yTrain, batch_size=1))\n",
    "print(\"Test Accuracy:\", modelR5.evaluate(xTest, yTest, batch_size=1))"
   ]
  },
  {
   "cell_type": "code",
   "execution_count": 40,
   "id": "e0ec0b54",
   "metadata": {},
   "outputs": [
    {
     "name": "stdout",
     "output_type": "stream",
     "text": [
      "Sigmoid with sgd and epochs=15\n",
      "\n",
      "Epoch 1/15\n",
      "9/9 [==============================] - 0s 1ms/step - loss: 0.7848 - accuracy: 0.3924\n",
      "Epoch 2/15\n",
      "9/9 [==============================] - 0s 1ms/step - loss: 0.7184 - accuracy: 0.5208\n",
      "Epoch 3/15\n",
      "9/9 [==============================] - 0s 1ms/step - loss: 0.6839 - accuracy: 0.5747\n",
      "Epoch 4/15\n",
      "9/9 [==============================] - 0s 892us/step - loss: 0.6688 - accuracy: 0.5955\n",
      "Epoch 5/15\n",
      "9/9 [==============================] - 0s 1ms/step - loss: 0.6611 - accuracy: 0.5972\n",
      "Epoch 6/15\n",
      "9/9 [==============================] - 0s 855us/step - loss: 0.6543 - accuracy: 0.6285\n",
      "Epoch 7/15\n",
      "9/9 [==============================] - 0s 822us/step - loss: 0.6491 - accuracy: 0.6389\n",
      "Epoch 8/15\n",
      "9/9 [==============================] - 0s 865us/step - loss: 0.6443 - accuracy: 0.6493\n",
      "Epoch 9/15\n",
      "9/9 [==============================] - 0s 777us/step - loss: 0.6401 - accuracy: 0.6632\n",
      "Epoch 10/15\n",
      "9/9 [==============================] - 0s 910us/step - loss: 0.6373 - accuracy: 0.6649\n",
      "Epoch 11/15\n",
      "9/9 [==============================] - 0s 773us/step - loss: 0.6349 - accuracy: 0.6615\n",
      "Epoch 12/15\n",
      "9/9 [==============================] - 0s 870us/step - loss: 0.6335 - accuracy: 0.6632\n",
      "Epoch 13/15\n",
      "9/9 [==============================] - 0s 761us/step - loss: 0.6318 - accuracy: 0.6684\n",
      "Epoch 14/15\n",
      "9/9 [==============================] - 0s 748us/step - loss: 0.6309 - accuracy: 0.6684\n",
      "Epoch 15/15\n",
      "9/9 [==============================] - 0s 743us/step - loss: 0.6298 - accuracy: 0.6649\n",
      "576/576 [==============================] - 0s 583us/step - loss: 0.6283 - accuracy: 0.6701\n",
      "Train Accuracy:  [0.6282804012298584, 0.6701388955116272]\n",
      "192/192 [==============================] - 0s 561us/step - loss: 0.6453 - accuracy: 0.6198\n",
      "Test Accuracy:  [0.6453469395637512, 0.6197916865348816]\n"
     ]
    }
   ],
   "source": [
    "print(\"Sigmoid with sgd and epochs=15\\n\")\n",
    "modelR6 = Sequential()\n",
    "modelR6.add(Dense(12, input_dim=8, activation=\"sigmoid\"))\n",
    "modelR6.add(Dense(1, activation=\"sigmoid\"))\n",
    "modelR6.compile(loss='binary_crossentropy', optimizer='sgd', metrics=[\"accuracy\"])\n",
    "modelR6.fit(xTrain, yTrain, epochs=15, batch_size=64)\n",
    "print(\"Train Accuracy: \", modelR6.evaluate(xTrain, yTrain, batch_size=1))\n",
    "print(\"Test Accuracy: \", modelR6.evaluate(xTest, yTest, batch_size=1))"
   ]
  },
  {
   "cell_type": "code",
   "execution_count": 41,
   "id": "e20a5529",
   "metadata": {},
   "outputs": [
    {
     "name": "stdout",
     "output_type": "stream",
     "text": [
      "Relu with adam and epochs=15\n",
      "\n",
      "Epoch 1/15\n",
      "9/9 [==============================] - 0s 957us/step - loss: 60.8866 - accuracy: 0.6615\n",
      "Epoch 2/15\n",
      "9/9 [==============================] - 0s 927us/step - loss: 56.7033 - accuracy: 0.6615\n",
      "Epoch 3/15\n",
      "9/9 [==============================] - 0s 980us/step - loss: 52.9229 - accuracy: 0.6615\n",
      "Epoch 4/15\n",
      "9/9 [==============================] - 0s 961us/step - loss: 48.8686 - accuracy: 0.6615\n",
      "Epoch 5/15\n",
      "9/9 [==============================] - 0s 894us/step - loss: 44.8434 - accuracy: 0.6615\n",
      "Epoch 6/15\n",
      "9/9 [==============================] - 0s 976us/step - loss: 40.5345 - accuracy: 0.6615\n",
      "Epoch 7/15\n",
      "9/9 [==============================] - 0s 886us/step - loss: 36.4636 - accuracy: 0.6597\n",
      "Epoch 8/15\n",
      "9/9 [==============================] - 0s 829us/step - loss: 31.8615 - accuracy: 0.6597\n",
      "Epoch 9/15\n",
      "9/9 [==============================] - 0s 1ms/step - loss: 27.2038 - accuracy: 0.6597\n",
      "Epoch 10/15\n",
      "9/9 [==============================] - 0s 830us/step - loss: 21.6989 - accuracy: 0.6597\n",
      "Epoch 11/15\n",
      "9/9 [==============================] - 0s 961us/step - loss: 16.7954 - accuracy: 0.6441\n",
      "Epoch 12/15\n",
      "9/9 [==============================] - 0s 846us/step - loss: 11.4264 - accuracy: 0.6163\n",
      "Epoch 13/15\n",
      "9/9 [==============================] - 0s 869us/step - loss: 8.2405 - accuracy: 0.5521\n",
      "Epoch 14/15\n",
      "9/9 [==============================] - 0s 778us/step - loss: 7.9791 - accuracy: 0.4826\n",
      "Epoch 15/15\n",
      "9/9 [==============================] - 0s 763us/step - loss: 7.6387 - accuracy: 0.4757\n",
      "\n",
      "Relu with sgd (epoch=15):\n",
      "576/576 [==============================] - 0s 583us/step - loss: 7.3033 - accuracy: 0.5017\n",
      "Train Accuracy:  [7.303290367126465, 0.5017361044883728]\n",
      "192/192 [==============================] - 0s 612us/step - loss: 9.4341 - accuracy: 0.4375\n",
      "Test Accuracy:  [9.434142112731934, 0.4375]\n"
     ]
    }
   ],
   "source": [
    "print(\"Relu with adam and epochs=15\\n\")\n",
    "modelR7 = Sequential()\n",
    "modelR7.add(Dense(12, input_dim=8, activation=\"relu\"))\n",
    "modelR7.add(Dense(1, activation=\"sigmoid\"))\n",
    "modelR7.compile(loss='binary_crossentropy', optimizer='adam', metrics=[\"accuracy\"])\n",
    "modelR7.fit(xTrain, yTrain, epochs=15, batch_size=64)\n",
    "print(\"\\nRelu with sgd (epoch=15):\")\n",
    "print(\"Train Accuracy: \", modelR7.evaluate(xTrain, yTrain, batch_size=1))\n",
    "print(\"Test Accuracy: \", modelR7.evaluate(xTest, yTest, batch_size=1))"
   ]
  },
  {
   "cell_type": "code",
   "execution_count": 42,
   "id": "52111f90",
   "metadata": {},
   "outputs": [
    {
     "name": "stdout",
     "output_type": "stream",
     "text": [
      "Sigmoid with adam and epochs=15\n",
      "\n",
      "Epoch 1/15\n",
      "9/9 [==============================] - 0s 1ms/step - loss: 0.6310 - accuracy: 0.6701\n",
      "Epoch 2/15\n",
      "9/9 [==============================] - 0s 1ms/step - loss: 0.6244 - accuracy: 0.6701\n",
      "Epoch 3/15\n",
      "9/9 [==============================] - 0s 1ms/step - loss: 0.6227 - accuracy: 0.6719\n",
      "Epoch 4/15\n",
      "9/9 [==============================] - 0s 1ms/step - loss: 0.6196 - accuracy: 0.6684\n",
      "Epoch 5/15\n",
      "9/9 [==============================] - 0s 946us/step - loss: 0.6176 - accuracy: 0.6701\n",
      "Epoch 6/15\n",
      "9/9 [==============================] - 0s 876us/step - loss: 0.6154 - accuracy: 0.6701\n",
      "Epoch 7/15\n",
      "9/9 [==============================] - 0s 865us/step - loss: 0.6130 - accuracy: 0.6736\n",
      "Epoch 8/15\n",
      "9/9 [==============================] - 0s 830us/step - loss: 0.6099 - accuracy: 0.6736\n",
      "Epoch 9/15\n",
      "9/9 [==============================] - 0s 888us/step - loss: 0.6076 - accuracy: 0.6753\n",
      "Epoch 10/15\n",
      "9/9 [==============================] - 0s 825us/step - loss: 0.6037 - accuracy: 0.6753\n",
      "Epoch 11/15\n",
      "9/9 [==============================] - 0s 872us/step - loss: 0.6010 - accuracy: 0.6753\n",
      "Epoch 12/15\n",
      "9/9 [==============================] - 0s 829us/step - loss: 0.5975 - accuracy: 0.6736\n",
      "Epoch 13/15\n",
      "9/9 [==============================] - 0s 823us/step - loss: 0.5965 - accuracy: 0.6753\n",
      "Epoch 14/15\n",
      "9/9 [==============================] - 0s 742us/step - loss: 0.5962 - accuracy: 0.6771\n",
      "Epoch 15/15\n",
      "9/9 [==============================] - 0s 761us/step - loss: 0.5952 - accuracy: 0.6771\n",
      "576/576 [==============================] - 0s 612us/step - loss: 0.5942 - accuracy: 0.6771\n",
      "Train Accuracy:  [0.5942409038543701, 0.6770833134651184]\n",
      "192/192 [==============================] - 0s 608us/step - loss: 0.6339 - accuracy: 0.6302\n",
      "Test Accuracy:  [0.6338707208633423, 0.6302083134651184]\n"
     ]
    }
   ],
   "source": [
    "print(\"Sigmoid with adam and epochs=15\\n\")\n",
    "modelR8 = Sequential()\n",
    "modelR8.add(Dense(12, input_dim=8, activation=\"sigmoid\"))\n",
    "modelR8.add(Dense(1, activation=\"sigmoid\"))\n",
    "modelR8.compile(loss='binary_crossentropy', optimizer='adam', metrics=[\"accuracy\"])\n",
    "modelR8.fit(xTrain, yTrain, epochs=15, batch_size=64)\n",
    "print(\"Train Accuracy: \", modelR8.evaluate(xTrain, yTrain, batch_size=1))\n",
    "print(\"Test Accuracy: \", modelR8.evaluate(xTest, yTest, batch_size=1))"
   ]
  },
  {
   "cell_type": "code",
   "execution_count": null,
   "id": "c90170c8",
   "metadata": {},
   "outputs": [],
   "source": []
  }
 ],
 "metadata": {
  "kernelspec": {
   "display_name": "Python 3",
   "language": "python",
   "name": "python3"
  },
  "language_info": {
   "codemirror_mode": {
    "name": "ipython",
    "version": 3
   },
   "file_extension": ".py",
   "mimetype": "text/x-python",
   "name": "python",
   "nbconvert_exporter": "python",
   "pygments_lexer": "ipython3",
   "version": "3.8.8"
  }
 },
 "nbformat": 4,
 "nbformat_minor": 5
}
