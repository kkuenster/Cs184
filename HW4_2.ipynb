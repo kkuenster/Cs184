{
 "cells": [
  {
   "cell_type": "code",
   "execution_count": 100,
   "id": "9682b940",
   "metadata": {},
   "outputs": [
    {
     "name": "stdout",
     "output_type": "stream",
     "text": [
      "      0    1   2   3    4     5      6   7  8\n",
      "0     6  148  72  35    0  33.6  0.627  50  1\n",
      "1     1   85  66  29    0  26.6  0.351  31  0\n",
      "2     8  183  64   0    0  23.3  0.672  32  1\n",
      "3     1   89  66  23   94  28.1  0.167  21  0\n",
      "4     0  137  40  35  168  43.1  2.288  33  1\n",
      "..   ..  ...  ..  ..  ...   ...    ...  .. ..\n",
      "763  10  101  76  48  180  32.9  0.171  63  0\n",
      "764   2  122  70  27    0  36.8  0.340  27  0\n",
      "765   5  121  72  23  112  26.2  0.245  30  0\n",
      "766   1  126  60   0    0  30.1  0.349  47  1\n",
      "767   1   93  70  31    0  30.4  0.315  23  0\n",
      "\n",
      "[768 rows x 9 columns]\n",
      "(768, 9)\n"
     ]
    }
   ],
   "source": [
    "from keras.models import Sequential\n",
    "from keras.layers import Dense\n",
    "import pandas as pd\n",
    "from sklearn.model_selection import train_test_split\n",
    "\n",
    "df=pd.read_csv(\"prima-indians-diabetes.csv\", header=None) #read in csv and print\n",
    "print(df)\n",
    "print(df.shape)#print shape of the dataframe\n",
    "x=df.iloc[:,:-1].values #convert to array\n",
    "y=df.iloc[:,-1].values\n",
    "xTrain, xTest, yTrain, yTest = train_test_split(x, y, test_size=0.25, random_state=123) #split intop test and train"
   ]
  },
  {
   "cell_type": "code",
   "execution_count": 101,
   "id": "29be2bc0",
   "metadata": {},
   "outputs": [
    {
     "name": "stdout",
     "output_type": "stream",
     "text": [
      "Relu with sgd and epochs=10\n",
      "\n",
      "Epoch 1/10\n",
      "9/9 [==============================] - 0s 1ms/step - loss: 4.2224 - accuracy: 0.5156\n",
      "Epoch 2/10\n",
      "9/9 [==============================] - 0s 1ms/step - loss: 0.8259 - accuracy: 0.6024\n",
      "Epoch 3/10\n",
      "9/9 [==============================] - 0s 1ms/step - loss: 0.7873 - accuracy: 0.6267\n",
      "Epoch 4/10\n",
      "9/9 [==============================] - 0s 1ms/step - loss: 0.7353 - accuracy: 0.6441\n",
      "Epoch 5/10\n",
      "9/9 [==============================] - 0s 874us/step - loss: 0.7306 - accuracy: 0.6406\n",
      "Epoch 6/10\n",
      "9/9 [==============================] - 0s 796us/step - loss: 0.7411 - accuracy: 0.6389\n",
      "Epoch 7/10\n",
      "9/9 [==============================] - 0s 796us/step - loss: 0.6973 - accuracy: 0.6510\n",
      "Epoch 8/10\n",
      "9/9 [==============================] - 0s 806us/step - loss: 0.6816 - accuracy: 0.6441\n",
      "Epoch 9/10\n",
      "9/9 [==============================] - 0s 877us/step - loss: 0.7018 - accuracy: 0.6441\n",
      "Epoch 10/10\n",
      "9/9 [==============================] - 0s 808us/step - loss: 0.6832 - accuracy: 0.6510\n",
      "576/576 [==============================] - 0s 641us/step - loss: 0.6553 - accuracy: 0.6632\n",
      "Train Accuracy:  0.6631944179534912\n",
      "192/192 [==============================] - 0s 624us/step - loss: 0.7041 - accuracy: 0.6250\n",
      "Test Accuracy:  0.625\n"
     ]
    }
   ],
   "source": [
    "print(\"Relu with sgd and epochs=10\\n\")\n",
    "modelR1 = Sequential()\n",
    "modelR1.add(Dense(12, input_dim=8, activation=\"relu\")) # input_dim is the number of input features\n",
    "modelR1.add(Dense(1, activation=\"sigmoid\"))\n",
    "modelR1.compile(loss='binary_crossentropy', optimizer='sgd', metrics=[\"accuracy\"])#binary classification uses binary_crossentropy\n",
    "modelR1.fit(xTrain, yTrain, epochs=10, batch_size=64)\n",
    "print(\"Train Accuracy: \", modelR1.evaluate(xTrain, yTrain, batch_size=1)[1])\n",
    "print(\"Test Accuracy: \", modelR1.evaluate(xTest, yTest, batch_size=1)[1])"
   ]
  },
  {
   "cell_type": "code",
   "execution_count": 102,
   "id": "5ee31d76",
   "metadata": {},
   "outputs": [
    {
     "name": "stdout",
     "output_type": "stream",
     "text": [
      "Sigmoid with sgd and epochs=10\n",
      "\n",
      "Epoch 1/10\n",
      "9/9 [==============================] - 0s 937us/step - loss: 0.8495 - accuracy: 0.3628\n",
      "Epoch 2/10\n",
      "9/9 [==============================] - 0s 1ms/step - loss: 0.7909 - accuracy: 0.4340\n",
      "Epoch 3/10\n",
      "9/9 [==============================] - 0s 1ms/step - loss: 0.7474 - accuracy: 0.4497\n",
      "Epoch 4/10\n",
      "9/9 [==============================] - 0s 800us/step - loss: 0.7131 - accuracy: 0.4688\n",
      "Epoch 5/10\n",
      "9/9 [==============================] - 0s 818us/step - loss: 0.6918 - accuracy: 0.4688\n",
      "Epoch 6/10\n",
      "9/9 [==============================] - 0s 783us/step - loss: 0.6776 - accuracy: 0.4688\n",
      "Epoch 7/10\n",
      "9/9 [==============================] - 0s 801us/step - loss: 0.6663 - accuracy: 0.6181\n",
      "Epoch 8/10\n",
      "9/9 [==============================] - 0s 769us/step - loss: 0.6580 - accuracy: 0.6424\n",
      "Epoch 9/10\n",
      "9/9 [==============================] - 0s 794us/step - loss: 0.6516 - accuracy: 0.6424\n",
      "Epoch 10/10\n",
      "9/9 [==============================] - 0s 805us/step - loss: 0.6467 - accuracy: 0.6424\n",
      "576/576 [==============================] - 0s 598us/step - loss: 0.6438 - accuracy: 0.6458\n",
      "Train Accuracy:  0.6458333134651184\n",
      "192/192 [==============================] - 0s 604us/step - loss: 0.6508 - accuracy: 0.6198\n",
      "Test Accuracy:  0.6197916865348816\n"
     ]
    }
   ],
   "source": [
    "print(\"Sigmoid with sgd and epochs=10\\n\")\n",
    "modelR2 = Sequential()\n",
    "modelR2.add(Dense(12, input_dim=8, activation=\"sigmoid\"))\n",
    "modelR2.add(Dense(1, activation=\"sigmoid\"))\n",
    "modelR2.compile(loss='binary_crossentropy', optimizer='sgd', metrics=[\"accuracy\"])\n",
    "modelR2.fit(xTrain, yTrain, epochs=10, batch_size=64)\n",
    "print(\"Train Accuracy: \", modelR2.evaluate(xTrain, yTrain, batch_size=1)[1])\n",
    "print(\"Test Accuracy: \", modelR2.evaluate(xTest, yTest, batch_size=1)[1])"
   ]
  },
  {
   "cell_type": "code",
   "execution_count": 103,
   "id": "b7bedd62",
   "metadata": {
    "scrolled": true
   },
   "outputs": [
    {
     "name": "stdout",
     "output_type": "stream",
     "text": [
      "Relu with adam and epochs=10\n",
      "\n",
      "Epoch 1/10\n",
      "9/9 [==============================] - 0s 1ms/step - loss: 21.4534 - accuracy: 0.3403\n",
      "Epoch 2/10\n",
      "9/9 [==============================] - 0s 1ms/step - loss: 16.3343 - accuracy: 0.3681\n",
      "Epoch 3/10\n",
      "9/9 [==============================] - 0s 953us/step - loss: 12.1886 - accuracy: 0.4288\n",
      "Epoch 4/10\n",
      "9/9 [==============================] - 0s 939us/step - loss: 9.1605 - accuracy: 0.4861\n",
      "Epoch 5/10\n",
      "9/9 [==============================] - 0s 913us/step - loss: 6.5665 - accuracy: 0.5208\n",
      "Epoch 6/10\n",
      "9/9 [==============================] - 0s 1ms/step - loss: 4.7493 - accuracy: 0.5608\n",
      "Epoch 7/10\n",
      "9/9 [==============================] - 0s 868us/step - loss: 3.4079 - accuracy: 0.5816\n",
      "Epoch 8/10\n",
      "9/9 [==============================] - 0s 840us/step - loss: 2.4654 - accuracy: 0.5642\n",
      "Epoch 9/10\n",
      "9/9 [==============================] - 0s 781us/step - loss: 2.1298 - accuracy: 0.5625\n",
      "Epoch 10/10\n",
      "9/9 [==============================] - 0s 803us/step - loss: 2.0812 - accuracy: 0.5885\n",
      "576/576 [==============================] - 0s 608us/step - loss: 2.0397 - accuracy: 0.6007\n",
      "Train Accuracy:  0.6006944179534912\n",
      "192/192 [==============================] - 0s 628us/step - loss: 2.6873 - accuracy: 0.5990\n",
      "Test Accuracy:  0.5989583134651184\n"
     ]
    }
   ],
   "source": [
    "print(\"Relu with adam and epochs=10\\n\")\n",
    "modelR3 = Sequential()\n",
    "modelR3.add(Dense(12, input_dim=8, activation=\"relu\"))\n",
    "modelR3.add(Dense(1, activation=\"sigmoid\"))\n",
    "modelR3.compile(loss='binary_crossentropy', optimizer='adam', metrics=[\"accuracy\"])\n",
    "modelR3.fit(xTrain, yTrain, epochs=10, batch_size=64)\n",
    "print(\"Train Accuracy: \", modelR3.evaluate(xTrain, yTrain, batch_size=1)[1])\n",
    "print(\"Test Accuracy: \", modelR3.evaluate(xTest, yTest, batch_size=1)[1])"
   ]
  },
  {
   "cell_type": "code",
   "execution_count": 104,
   "id": "d12ad04c",
   "metadata": {},
   "outputs": [
    {
     "name": "stdout",
     "output_type": "stream",
     "text": [
      "Sigmoid with adam and epochs=10\n",
      "\n",
      "Epoch 1/10\n",
      "9/9 [==============================] - 0s 1ms/step - loss: 0.7154 - accuracy: 0.6615\n",
      "Epoch 2/10\n",
      "9/9 [==============================] - 0s 1ms/step - loss: 0.7034 - accuracy: 0.6615\n",
      "Epoch 3/10\n",
      "9/9 [==============================] - 0s 1ms/step - loss: 0.6950 - accuracy: 0.6615\n",
      "Epoch 4/10\n",
      "9/9 [==============================] - 0s 1ms/step - loss: 0.6861 - accuracy: 0.6615\n",
      "Epoch 5/10\n",
      "9/9 [==============================] - 0s 791us/step - loss: 0.6789 - accuracy: 0.6615\n",
      "Epoch 6/10\n",
      "9/9 [==============================] - 0s 853us/step - loss: 0.6716 - accuracy: 0.6615\n",
      "Epoch 7/10\n",
      "9/9 [==============================] - 0s 854us/step - loss: 0.6637 - accuracy: 0.6615\n",
      "Epoch 8/10\n",
      "9/9 [==============================] - 0s 929us/step - loss: 0.6578 - accuracy: 0.6615\n",
      "Epoch 9/10\n",
      "9/9 [==============================] - 0s 814us/step - loss: 0.6530 - accuracy: 0.6615\n",
      "Epoch 10/10\n",
      "9/9 [==============================] - 0s 828us/step - loss: 0.6491 - accuracy: 0.6615\n",
      "576/576 [==============================] - 0s 596us/step - loss: 0.6471 - accuracy: 0.6615\n",
      "Train Accuracy:  0.6614583134651184\n",
      "192/192 [==============================] - 0s 611us/step - loss: 0.6814 - accuracy: 0.6198\n",
      "Test Accuracy:  0.6197916865348816\n"
     ]
    }
   ],
   "source": [
    "print(\"Sigmoid with adam and epochs=10\\n\")\n",
    "modelR4 = Sequential()\n",
    "modelR4.add(Dense(12, input_dim=8, activation=\"sigmoid\"))\n",
    "modelR4.add(Dense(1, activation=\"sigmoid\"))\n",
    "modelR4.compile(loss='binary_crossentropy', optimizer='adam', metrics=[\"accuracy\"])\n",
    "modelR4.fit(xTrain, yTrain, epochs=10, batch_size=64)\n",
    "print(\"Train Accuracy: \", modelR4.evaluate(xTrain, yTrain, batch_size=1)[1])\n",
    "print(\"Test Accuracy: \", modelR4.evaluate(xTest, yTest, batch_size=1)[1])"
   ]
  },
  {
   "cell_type": "code",
   "execution_count": 105,
   "id": "1f253f0b",
   "metadata": {},
   "outputs": [
    {
     "name": "stdout",
     "output_type": "stream",
     "text": [
      "Relu with sgd and epochs=15\n",
      "\n",
      "Epoch 1/15\n",
      "9/9 [==============================] - 0s 846us/step - loss: 7.5270 - accuracy: 0.5538\n",
      "Epoch 2/15\n",
      "9/9 [==============================] - 0s 794us/step - loss: 0.8133 - accuracy: 0.5451\n",
      "Epoch 3/15\n",
      "9/9 [==============================] - 0s 998us/step - loss: 0.7230 - accuracy: 0.5677\n",
      "Epoch 4/15\n",
      "9/9 [==============================] - 0s 794us/step - loss: 0.6683 - accuracy: 0.6111\n",
      "Epoch 5/15\n",
      "9/9 [==============================] - 0s 800us/step - loss: 0.6551 - accuracy: 0.6406\n",
      "Epoch 6/15\n",
      "9/9 [==============================] - 0s 769us/step - loss: 0.6694 - accuracy: 0.6389\n",
      "Epoch 7/15\n",
      "9/9 [==============================] - 0s 785us/step - loss: 0.6560 - accuracy: 0.6267\n",
      "Epoch 8/15\n",
      "9/9 [==============================] - 0s 861us/step - loss: 0.6656 - accuracy: 0.6406\n",
      "Epoch 9/15\n",
      "9/9 [==============================] - 0s 765us/step - loss: 0.6517 - accuracy: 0.6233\n",
      "Epoch 10/15\n",
      "9/9 [==============================] - 0s 893us/step - loss: 0.6299 - accuracy: 0.6667\n",
      "Epoch 11/15\n",
      "9/9 [==============================] - 0s 790us/step - loss: 0.6279 - accuracy: 0.6528\n",
      "Epoch 12/15\n",
      "9/9 [==============================] - 0s 903us/step - loss: 0.6539 - accuracy: 0.6285\n",
      "Epoch 13/15\n",
      "9/9 [==============================] - 0s 762us/step - loss: 0.6302 - accuracy: 0.6667\n",
      "Epoch 14/15\n",
      "9/9 [==============================] - 0s 784us/step - loss: 0.6278 - accuracy: 0.6476\n",
      "Epoch 15/15\n",
      "9/9 [==============================] - 0s 1ms/step - loss: 0.6349 - accuracy: 0.6597\n",
      "576/576 [==============================] - 0s 605us/step - loss: 0.6173 - accuracy: 0.6684\n",
      "Train Accuracy: 0.6684027910232544\n",
      "192/192 [==============================] - 0s 613us/step - loss: 0.6569 - accuracy: 0.6510\n",
      "Test Accuracy: 0.6510416865348816\n"
     ]
    }
   ],
   "source": [
    "print(\"Relu with sgd and epochs=15\\n\")\n",
    "modelR5 = Sequential()\n",
    "modelR5.add(Dense(12, input_dim=8, activation=\"relu\"))\n",
    "modelR5.add(Dense(1, activation=\"sigmoid\"))\n",
    "modelR5.compile(loss=\"binary_crossentropy\", optimizer=\"sgd\", metrics=[\"accuracy\"])\n",
    "modelR5.fit(xTrain, yTrain, epochs=15, batch_size=64)\n",
    "print(\"Train Accuracy:\", modelR5.evaluate(xTrain, yTrain, batch_size=1)[1])\n",
    "print(\"Test Accuracy:\", modelR5.evaluate(xTest, yTest, batch_size=1)[1])"
   ]
  },
  {
   "cell_type": "code",
   "execution_count": 106,
   "id": "6284663b",
   "metadata": {},
   "outputs": [
    {
     "name": "stdout",
     "output_type": "stream",
     "text": [
      "Sigmoid with sgd and epochs=15\n",
      "\n",
      "Epoch 1/15\n",
      "9/9 [==============================] - 0s 946us/step - loss: 0.7852 - accuracy: 0.3854\n",
      "Epoch 2/15\n",
      "9/9 [==============================] - 0s 972us/step - loss: 0.7352 - accuracy: 0.4670\n",
      "Epoch 3/15\n",
      "9/9 [==============================] - 0s 980us/step - loss: 0.7020 - accuracy: 0.5122\n",
      "Epoch 4/15\n",
      "9/9 [==============================] - 0s 937us/step - loss: 0.6817 - accuracy: 0.5972\n",
      "Epoch 5/15\n",
      "9/9 [==============================] - 0s 809us/step - loss: 0.6682 - accuracy: 0.6233\n",
      "Epoch 6/15\n",
      "9/9 [==============================] - 0s 828us/step - loss: 0.6572 - accuracy: 0.6267\n",
      "Epoch 7/15\n",
      "9/9 [==============================] - 0s 766us/step - loss: 0.6494 - accuracy: 0.6319\n",
      "Epoch 8/15\n",
      "9/9 [==============================] - 0s 778us/step - loss: 0.6435 - accuracy: 0.6372\n",
      "Epoch 9/15\n",
      "9/9 [==============================] - 0s 821us/step - loss: 0.6388 - accuracy: 0.6424\n",
      "Epoch 10/15\n",
      "9/9 [==============================] - 0s 754us/step - loss: 0.6353 - accuracy: 0.6441\n",
      "Epoch 11/15\n",
      "9/9 [==============================] - 0s 787us/step - loss: 0.6331 - accuracy: 0.6510\n",
      "Epoch 12/15\n",
      "9/9 [==============================] - 0s 772us/step - loss: 0.6305 - accuracy: 0.6562\n",
      "Epoch 13/15\n",
      "9/9 [==============================] - 0s 851us/step - loss: 0.6291 - accuracy: 0.6580\n",
      "Epoch 14/15\n",
      "9/9 [==============================] - 0s 733us/step - loss: 0.6274 - accuracy: 0.6580\n",
      "Epoch 15/15\n",
      "9/9 [==============================] - 0s 870us/step - loss: 0.6265 - accuracy: 0.6580\n",
      "576/576 [==============================] - 0s 602us/step - loss: 0.6254 - accuracy: 0.6580\n",
      "Train Accuracy:  0.6579861044883728\n",
      "192/192 [==============================] - 0s 620us/step - loss: 0.6353 - accuracy: 0.6302\n",
      "Test Accuracy:  0.6302083134651184\n"
     ]
    }
   ],
   "source": [
    "print(\"Sigmoid with sgd and epochs=15\\n\")\n",
    "modelR6 = Sequential()\n",
    "modelR6.add(Dense(12, input_dim=8, activation=\"sigmoid\"))\n",
    "modelR6.add(Dense(1, activation=\"sigmoid\"))\n",
    "modelR6.compile(loss='binary_crossentropy', optimizer='sgd', metrics=[\"accuracy\"])\n",
    "modelR6.fit(xTrain, yTrain, epochs=15, batch_size=64)\n",
    "print(\"Train Accuracy: \", modelR6.evaluate(xTrain, yTrain, batch_size=1)[1])\n",
    "print(\"Test Accuracy: \", modelR6.evaluate(xTest, yTest, batch_size=1)[1])"
   ]
  },
  {
   "cell_type": "code",
   "execution_count": 107,
   "id": "022daa74",
   "metadata": {},
   "outputs": [
    {
     "name": "stdout",
     "output_type": "stream",
     "text": [
      "Relu with adam and epochs=15\n",
      "\n",
      "Epoch 1/15\n",
      "9/9 [==============================] - 0s 1ms/step - loss: 16.8916 - accuracy: 0.6597\n",
      "Epoch 2/15\n",
      "9/9 [==============================] - 0s 1ms/step - loss: 14.8943 - accuracy: 0.6424\n",
      "Epoch 3/15\n",
      "9/9 [==============================] - 0s 994us/step - loss: 13.4516 - accuracy: 0.6389\n",
      "Epoch 4/15\n",
      "9/9 [==============================] - 0s 1ms/step - loss: 12.0941 - accuracy: 0.6250\n",
      "Epoch 5/15\n",
      "9/9 [==============================] - 0s 997us/step - loss: 10.7559 - accuracy: 0.6163\n",
      "Epoch 6/15\n",
      "9/9 [==============================] - 0s 806us/step - loss: 9.5432 - accuracy: 0.6059\n",
      "Epoch 7/15\n",
      "9/9 [==============================] - 0s 887us/step - loss: 8.3998 - accuracy: 0.5972\n",
      "Epoch 8/15\n",
      "9/9 [==============================] - 0s 874us/step - loss: 7.5135 - accuracy: 0.5851\n",
      "Epoch 9/15\n",
      "9/9 [==============================] - 0s 808us/step - loss: 6.8014 - accuracy: 0.5747\n",
      "Epoch 10/15\n",
      "9/9 [==============================] - 0s 889us/step - loss: 6.2642 - accuracy: 0.5503\n",
      "Epoch 11/15\n",
      "9/9 [==============================] - 0s 777us/step - loss: 5.7364 - accuracy: 0.5365\n",
      "Epoch 12/15\n",
      "9/9 [==============================] - 0s 835us/step - loss: 5.2685 - accuracy: 0.5295\n",
      "Epoch 13/15\n",
      "9/9 [==============================] - 0s 741us/step - loss: 4.8087 - accuracy: 0.5156\n",
      "Epoch 14/15\n",
      "9/9 [==============================] - 0s 870us/step - loss: 4.3955 - accuracy: 0.5156\n",
      "Epoch 15/15\n",
      "9/9 [==============================] - 0s 789us/step - loss: 3.9693 - accuracy: 0.5122\n",
      "576/576 [==============================] - 0s 598us/step - loss: 3.7466 - accuracy: 0.5104\n",
      "Train Accuracy:  0.5104166865348816\n",
      "192/192 [==============================] - 0s 616us/step - loss: 5.3949 - accuracy: 0.4583\n",
      "Test Accuracy:  0.4583333432674408\n"
     ]
    }
   ],
   "source": [
    "print(\"Relu with adam and epochs=15\\n\")\n",
    "modelR7 = Sequential()\n",
    "modelR7.add(Dense(12, input_dim=8, activation=\"relu\"))\n",
    "modelR7.add(Dense(1, activation=\"sigmoid\"))\n",
    "modelR7.compile(loss='binary_crossentropy', optimizer='adam', metrics=[\"accuracy\"])\n",
    "modelR7.fit(xTrain, yTrain, epochs=15, batch_size=64)\n",
    "print(\"Train Accuracy: \", modelR7.evaluate(xTrain, yTrain, batch_size=1)[1])\n",
    "print(\"Test Accuracy: \", modelR7.evaluate(xTest, yTest, batch_size=1)[1])"
   ]
  },
  {
   "cell_type": "code",
   "execution_count": 108,
   "id": "aebb56b4",
   "metadata": {},
   "outputs": [
    {
     "name": "stdout",
     "output_type": "stream",
     "text": [
      "Sigmoid with adam and epochs=15\n",
      "\n",
      "Epoch 1/15\n",
      "9/9 [==============================] - 0s 1ms/step - loss: 0.6848 - accuracy: 0.6615\n",
      "Epoch 2/15\n",
      "9/9 [==============================] - 0s 1ms/step - loss: 0.6734 - accuracy: 0.6615\n",
      "Epoch 3/15\n",
      "9/9 [==============================] - 0s 1ms/step - loss: 0.6646 - accuracy: 0.6615\n",
      "Epoch 4/15\n",
      "9/9 [==============================] - 0s 1ms/step - loss: 0.6592 - accuracy: 0.6615\n",
      "Epoch 5/15\n",
      "9/9 [==============================] - 0s 901us/step - loss: 0.6541 - accuracy: 0.6615\n",
      "Epoch 6/15\n",
      "9/9 [==============================] - 0s 1ms/step - loss: 0.6499 - accuracy: 0.6615\n",
      "Epoch 7/15\n",
      "9/9 [==============================] - 0s 933us/step - loss: 0.6467 - accuracy: 0.6615\n",
      "Epoch 8/15\n",
      "9/9 [==============================] - 0s 849us/step - loss: 0.6428 - accuracy: 0.6615\n",
      "Epoch 9/15\n",
      "9/9 [==============================] - 0s 911us/step - loss: 0.6400 - accuracy: 0.6615\n",
      "Epoch 10/15\n",
      "9/9 [==============================] - 0s 795us/step - loss: 0.6387 - accuracy: 0.6615\n",
      "Epoch 11/15\n",
      "9/9 [==============================] - 0s 926us/step - loss: 0.6373 - accuracy: 0.6615\n",
      "Epoch 12/15\n",
      "9/9 [==============================] - 0s 802us/step - loss: 0.6357 - accuracy: 0.6615\n",
      "Epoch 13/15\n",
      "9/9 [==============================] - 0s 874us/step - loss: 0.6345 - accuracy: 0.6615\n",
      "Epoch 14/15\n",
      "9/9 [==============================] - 0s 797us/step - loss: 0.6332 - accuracy: 0.6615\n",
      "Epoch 15/15\n",
      "9/9 [==============================] - 0s 785us/step - loss: 0.6323 - accuracy: 0.6615\n",
      "576/576 [==============================] - 0s 596us/step - loss: 0.6310 - accuracy: 0.6615\n",
      "Train Accuracy:  0.6614583134651184\n",
      "192/192 [==============================] - 0s 605us/step - loss: 0.6528 - accuracy: 0.6198\n",
      "Test Accuracy:  0.6197916865348816\n"
     ]
    }
   ],
   "source": [
    "print(\"Sigmoid with adam and epochs=15\\n\")\n",
    "modelR8 = Sequential()\n",
    "modelR8.add(Dense(12, input_dim=8, activation=\"sigmoid\"))\n",
    "modelR8.add(Dense(1, activation=\"sigmoid\"))\n",
    "modelR8.compile(loss='binary_crossentropy', optimizer='adam', metrics=[\"accuracy\"])\n",
    "modelR8.fit(xTrain, yTrain, epochs=15, batch_size=64)\n",
    "print(\"Train Accuracy: \", modelR8.evaluate(xTrain, yTrain, batch_size=1)[1])\n",
    "print(\"Test Accuracy: \", modelR8.evaluate(xTest, yTest, batch_size=1)[1])"
   ]
  },
  {
   "cell_type": "code",
   "execution_count": null,
   "id": "9c45ae40",
   "metadata": {},
   "outputs": [],
   "source": []
  }
 ],
 "metadata": {
  "kernelspec": {
   "display_name": "Python 3",
   "language": "python",
   "name": "python3"
  },
  "language_info": {
   "codemirror_mode": {
    "name": "ipython",
    "version": 3
   },
   "file_extension": ".py",
   "mimetype": "text/x-python",
   "name": "python",
   "nbconvert_exporter": "python",
   "pygments_lexer": "ipython3",
   "version": "3.8.8"
  }
 },
 "nbformat": 4,
 "nbformat_minor": 5
}
