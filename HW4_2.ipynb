{
 "cells": [
  {
   "cell_type": "code",
   "execution_count": 54,
   "id": "02ffc1be",
   "metadata": {},
   "outputs": [
    {
     "name": "stdout",
     "output_type": "stream",
     "text": [
      "      0    1   2   3    4     5      6   7  8\n",
      "0     6  148  72  35    0  33.6  0.627  50  1\n",
      "1     1   85  66  29    0  26.6  0.351  31  0\n",
      "2     8  183  64   0    0  23.3  0.672  32  1\n",
      "3     1   89  66  23   94  28.1  0.167  21  0\n",
      "4     0  137  40  35  168  43.1  2.288  33  1\n",
      "..   ..  ...  ..  ..  ...   ...    ...  .. ..\n",
      "763  10  101  76  48  180  32.9  0.171  63  0\n",
      "764   2  122  70  27    0  36.8  0.340  27  0\n",
      "765   5  121  72  23  112  26.2  0.245  30  0\n",
      "766   1  126  60   0    0  30.1  0.349  47  1\n",
      "767   1   93  70  31    0  30.4  0.315  23  0\n",
      "\n",
      "[768 rows x 9 columns]\n",
      "(768, 9)\n"
     ]
    }
   ],
   "source": [
    "from keras.models import Sequential\n",
    "from keras.layers import Dense\n",
    "import pandas as pd\n",
    "from sklearn.model_selection import train_test_split\n",
    "\n",
    "df=pd.read_csv(\"prima-indians-diabetes.csv\", header=None) #read in csv and print\n",
    "print(df)\n",
    "print(df.shape)#print shape of the dataframe\n",
    "x=df.iloc[:,:-1].values #convert to array\n",
    "y=df.iloc[:,-1].values\n",
    "xTrain, xTest, yTrain, yTest = train_test_split(x, y, test_size=0.25, random_state=123) #split intop test and train"
   ]
  },
  {
   "cell_type": "code",
   "execution_count": 55,
   "id": "f8359162",
   "metadata": {},
   "outputs": [
    {
     "name": "stdout",
     "output_type": "stream",
     "text": [
      "Relu with sgd and epochs=10\n",
      "\n",
      "Epoch 1/10\n",
      "9/9 [==============================] - 0s 1ms/step - loss: 3.2210 - accuracy: 0.4635\n",
      "Epoch 2/10\n",
      "9/9 [==============================] - 0s 1ms/step - loss: 0.8414 - accuracy: 0.5347\n",
      "Epoch 3/10\n",
      "9/9 [==============================] - 0s 1ms/step - loss: 0.8092 - accuracy: 0.6042\n",
      "Epoch 4/10\n",
      "9/9 [==============================] - 0s 1ms/step - loss: 0.7761 - accuracy: 0.6319\n",
      "Epoch 5/10\n",
      "9/9 [==============================] - 0s 890us/step - loss: 0.7108 - accuracy: 0.6476\n",
      "Epoch 6/10\n",
      "9/9 [==============================] - 0s 799us/step - loss: 0.7038 - accuracy: 0.6406\n",
      "Epoch 7/10\n",
      "9/9 [==============================] - 0s 801us/step - loss: 0.6922 - accuracy: 0.6424\n",
      "Epoch 8/10\n",
      "9/9 [==============================] - 0s 792us/step - loss: 0.6866 - accuracy: 0.6597\n",
      "Epoch 9/10\n",
      "9/9 [==============================] - 0s 791us/step - loss: 0.6839 - accuracy: 0.6458\n",
      "Epoch 10/10\n",
      "9/9 [==============================] - 0s 781us/step - loss: 0.6774 - accuracy: 0.6545\n",
      "576/576 [==============================] - 0s 584us/step - loss: 0.6877 - accuracy: 0.6389\n",
      "Train Accuracy:  0.6388888955116272\n",
      "192/192 [==============================] - 0s 614us/step - loss: 0.7381 - accuracy: 0.6667\n",
      "Test Accuracy:  0.6666666865348816\n"
     ]
    }
   ],
   "source": [
    "print(\"Relu with sgd and epochs=10\\n\")\n",
    "modelR1 = Sequential()\n",
    "modelR1.add(Dense(12, input_dim=8, activation=\"relu\"))\n",
    "modelR1.add(Dense(1, activation=\"sigmoid\"))\n",
    "modelR1.compile(loss='binary_crossentropy', optimizer='sgd', metrics=[\"accuracy\"])\n",
    "modelR1.fit(xTrain, yTrain, epochs=10, batch_size=64)\n",
    "print(\"Train Accuracy: \", modelR1.evaluate(xTrain, yTrain, batch_size=1)[1])\n",
    "print(\"Test Accuracy: \", modelR1.evaluate(xTest, yTest, batch_size=1)[1])"
   ]
  },
  {
   "cell_type": "code",
   "execution_count": 56,
   "id": "23896142",
   "metadata": {},
   "outputs": [
    {
     "name": "stdout",
     "output_type": "stream",
     "text": [
      "Sigmoid with sgd and epochs=10\n",
      "\n",
      "Epoch 1/10\n",
      "9/9 [==============================] - 0s 945us/step - loss: 0.6755 - accuracy: 0.5642\n",
      "Epoch 2/10\n",
      "9/9 [==============================] - 0s 952us/step - loss: 0.6704 - accuracy: 0.5955\n",
      "Epoch 3/10\n",
      "9/9 [==============================] - 0s 978us/step - loss: 0.6658 - accuracy: 0.6476\n",
      "Epoch 4/10\n",
      "9/9 [==============================] - 0s 934us/step - loss: 0.6617 - accuracy: 0.6545\n",
      "Epoch 5/10\n",
      "9/9 [==============================] - 0s 991us/step - loss: 0.6583 - accuracy: 0.6597\n",
      "Epoch 6/10\n",
      "9/9 [==============================] - 0s 932us/step - loss: 0.6555 - accuracy: 0.6615\n",
      "Epoch 7/10\n",
      "9/9 [==============================] - 0s 834us/step - loss: 0.6527 - accuracy: 0.6615\n",
      "Epoch 8/10\n",
      "9/9 [==============================] - 0s 895us/step - loss: 0.6496 - accuracy: 0.6615\n",
      "Epoch 9/10\n",
      "9/9 [==============================] - 0s 826us/step - loss: 0.6470 - accuracy: 0.6615\n",
      "Epoch 10/10\n",
      "9/9 [==============================] - 0s 860us/step - loss: 0.6448 - accuracy: 0.6615\n",
      "576/576 [==============================] - 0s 589us/step - loss: 0.6430 - accuracy: 0.6615\n",
      "Train Accuracy:  0.6614583134651184\n",
      "192/192 [==============================] - 0s 607us/step - loss: 0.6552 - accuracy: 0.6198\n",
      "Test Accuracy:  0.6197916865348816\n"
     ]
    }
   ],
   "source": [
    "print(\"Sigmoid with sgd and epochs=10\\n\")\n",
    "modelR2 = Sequential()\n",
    "modelR2.add(Dense(12, input_dim=8, activation=\"sigmoid\"))\n",
    "modelR2.add(Dense(1, activation=\"sigmoid\"))\n",
    "modelR2.compile(loss='binary_crossentropy', optimizer='sgd', metrics=[\"accuracy\"])\n",
    "modelR2.fit(xTrain, yTrain, epochs=10, batch_size=64)\n",
    "print(\"Train Accuracy: \", modelR2.evaluate(xTrain, yTrain, batch_size=1)[1])\n",
    "print(\"Test Accuracy: \", modelR2.evaluate(xTest, yTest, batch_size=1)[1])"
   ]
  },
  {
   "cell_type": "code",
   "execution_count": 57,
   "id": "913dffcc",
   "metadata": {
    "scrolled": true
   },
   "outputs": [
    {
     "name": "stdout",
     "output_type": "stream",
     "text": [
      "Relu with adam and epochs=10\n",
      "\n",
      "Epoch 1/10\n",
      "9/9 [==============================] - 0s 1ms/step - loss: 10.4593 - accuracy: 0.4167\n",
      "Epoch 2/10\n",
      "9/9 [==============================] - 0s 1ms/step - loss: 6.4110 - accuracy: 0.5469\n",
      "Epoch 3/10\n",
      "9/9 [==============================] - 0s 1ms/step - loss: 4.2323 - accuracy: 0.6267\n",
      "Epoch 4/10\n",
      "9/9 [==============================] - 0s 859us/step - loss: 3.2613 - accuracy: 0.6389\n",
      "Epoch 5/10\n",
      "9/9 [==============================] - 0s 834us/step - loss: 3.0265 - accuracy: 0.6649\n",
      "Epoch 6/10\n",
      "9/9 [==============================] - 0s 831us/step - loss: 2.9304 - accuracy: 0.6719\n",
      "Epoch 7/10\n",
      "9/9 [==============================] - 0s 808us/step - loss: 2.7221 - accuracy: 0.6545\n",
      "Epoch 8/10\n",
      "9/9 [==============================] - 0s 800us/step - loss: 2.6280 - accuracy: 0.6510\n",
      "Epoch 9/10\n",
      "9/9 [==============================] - 0s 795us/step - loss: 2.5472 - accuracy: 0.6615\n",
      "Epoch 10/10\n",
      "9/9 [==============================] - 0s 810us/step - loss: 2.4960 - accuracy: 0.6684\n",
      "576/576 [==============================] - 0s 600us/step - loss: 2.4512 - accuracy: 0.6701\n",
      "Train Accuracy:  0.6701388955116272\n",
      "192/192 [==============================] - 0s 589us/step - loss: 2.1297 - accuracy: 0.6875\n",
      "Test Accuracy:  0.6875\n"
     ]
    }
   ],
   "source": [
    "print(\"Relu with adam and epochs=10\\n\")\n",
    "modelR3 = Sequential()\n",
    "modelR3.add(Dense(12, input_dim=8, activation=\"relu\"))\n",
    "modelR3.add(Dense(1, activation=\"sigmoid\"))\n",
    "modelR3.compile(loss='binary_crossentropy', optimizer='adam', metrics=[\"accuracy\"])\n",
    "modelR3.fit(xTrain, yTrain, epochs=10, batch_size=64)\n",
    "print(\"Train Accuracy: \", modelR3.evaluate(xTrain, yTrain, batch_size=1)[1])\n",
    "print(\"Test Accuracy: \", modelR3.evaluate(xTest, yTest, batch_size=1)[1])"
   ]
  },
  {
   "cell_type": "code",
   "execution_count": 58,
   "id": "9f57716e",
   "metadata": {},
   "outputs": [
    {
     "name": "stdout",
     "output_type": "stream",
     "text": [
      "Sigmoid with adam and epochs=10\n",
      "\n",
      "Epoch 1/10\n",
      "9/9 [==============================] - 0s 1ms/step - loss: 0.6663 - accuracy: 0.6615\n",
      "Epoch 2/10\n",
      "9/9 [==============================] - 0s 897us/step - loss: 0.6556 - accuracy: 0.6615\n",
      "Epoch 3/10\n",
      "9/9 [==============================] - 0s 1ms/step - loss: 0.6477 - accuracy: 0.6615\n",
      "Epoch 4/10\n",
      "9/9 [==============================] - 0s 875us/step - loss: 0.6435 - accuracy: 0.6615\n",
      "Epoch 5/10\n",
      "9/9 [==============================] - 0s 905us/step - loss: 0.6372 - accuracy: 0.6615\n",
      "Epoch 6/10\n",
      "9/9 [==============================] - 0s 819us/step - loss: 0.6337 - accuracy: 0.6615\n",
      "Epoch 7/10\n",
      "9/9 [==============================] - 0s 835us/step - loss: 0.6318 - accuracy: 0.6615\n",
      "Epoch 8/10\n",
      "9/9 [==============================] - 0s 830us/step - loss: 0.6303 - accuracy: 0.6615\n",
      "Epoch 9/10\n",
      "9/9 [==============================] - 0s 1ms/step - loss: 0.6280 - accuracy: 0.6615\n",
      "Epoch 10/10\n",
      "9/9 [==============================] - 0s 879us/step - loss: 0.6266 - accuracy: 0.6615\n",
      "576/576 [==============================] - 0s 591us/step - loss: 0.6247 - accuracy: 0.6615\n",
      "Train Accuracy:  0.6614583134651184\n",
      "192/192 [==============================] - 0s 607us/step - loss: 0.6603 - accuracy: 0.6250\n",
      "Test Accuracy:  0.625\n"
     ]
    }
   ],
   "source": [
    "print(\"Sigmoid with adam and epochs=10\\n\")\n",
    "modelR4 = Sequential()\n",
    "modelR4.add(Dense(12, input_dim=8, activation=\"sigmoid\"))\n",
    "modelR4.add(Dense(1, activation=\"sigmoid\"))\n",
    "modelR4.compile(loss='binary_crossentropy', optimizer='adam', metrics=[\"accuracy\"])\n",
    "modelR4.fit(xTrain, yTrain, epochs=10, batch_size=64)\n",
    "print(\"Train Accuracy: \", modelR4.evaluate(xTrain, yTrain, batch_size=1)[1])\n",
    "print(\"Test Accuracy: \", modelR4.evaluate(xTest, yTest, batch_size=1)[1])"
   ]
  },
  {
   "cell_type": "code",
   "execution_count": 59,
   "id": "a5fd9078",
   "metadata": {},
   "outputs": [
    {
     "name": "stdout",
     "output_type": "stream",
     "text": [
      "Relu with sgd and epochs=15\n",
      "\n",
      "Epoch 1/15\n",
      "9/9 [==============================] - 0s 932us/step - loss: 9.6868 - accuracy: 0.5694\n",
      "Epoch 2/15\n",
      "9/9 [==============================] - 0s 939us/step - loss: 0.6961 - accuracy: 0.6528\n",
      "Epoch 3/15\n",
      "9/9 [==============================] - 0s 860us/step - loss: 0.6852 - accuracy: 0.6476\n",
      "Epoch 4/15\n",
      "9/9 [==============================] - 0s 901us/step - loss: 0.6799 - accuracy: 0.6510\n",
      "Epoch 5/15\n",
      "9/9 [==============================] - 0s 868us/step - loss: 0.6771 - accuracy: 0.6528\n",
      "Epoch 6/15\n",
      "9/9 [==============================] - 0s 975us/step - loss: 0.6765 - accuracy: 0.6545\n",
      "Epoch 7/15\n",
      "9/9 [==============================] - 0s 777us/step - loss: 0.6720 - accuracy: 0.6545\n",
      "Epoch 8/15\n",
      "9/9 [==============================] - 0s 967us/step - loss: 0.6700 - accuracy: 0.6545\n",
      "Epoch 9/15\n",
      "9/9 [==============================] - 0s 856us/step - loss: 0.6691 - accuracy: 0.6545\n",
      "Epoch 10/15\n",
      "9/9 [==============================] - 0s 787us/step - loss: 0.6686 - accuracy: 0.6545\n",
      "Epoch 11/15\n",
      "9/9 [==============================] - 0s 861us/step - loss: 0.6657 - accuracy: 0.6545\n",
      "Epoch 12/15\n",
      "9/9 [==============================] - 0s 782us/step - loss: 0.6656 - accuracy: 0.6545\n",
      "Epoch 13/15\n",
      "9/9 [==============================] - 0s 881us/step - loss: 0.6626 - accuracy: 0.6528\n",
      "Epoch 14/15\n",
      "9/9 [==============================] - 0s 704us/step - loss: 0.6640 - accuracy: 0.6528\n",
      "Epoch 15/15\n",
      "9/9 [==============================] - 0s 919us/step - loss: 0.6587 - accuracy: 0.6528\n",
      "576/576 [==============================] - 0s 583us/step - loss: 0.6580 - accuracy: 0.6528\n",
      "Train Accuracy: 0.6527777910232544\n",
      "192/192 [==============================] - 0s 564us/step - loss: 0.6614 - accuracy: 0.6406\n",
      "Test Accuracy: 0.640625\n"
     ]
    }
   ],
   "source": [
    "print(\"Relu with sgd and epochs=15\\n\")\n",
    "modelR5 = Sequential()\n",
    "modelR5.add(Dense(12, input_dim=8, activation=\"relu\"))\n",
    "modelR5.add(Dense(1, activation=\"sigmoid\"))\n",
    "modelR5.compile(loss=\"binary_crossentropy\", optimizer=\"sgd\", metrics=[\"accuracy\"])\n",
    "modelR5.fit(xTrain, yTrain, epochs=15, batch_size=64)\n",
    "print(\"Train Accuracy:\", modelR5.evaluate(xTrain, yTrain, batch_size=1)[1])\n",
    "print(\"Test Accuracy:\", modelR5.evaluate(xTest, yTest, batch_size=1)[1])"
   ]
  },
  {
   "cell_type": "code",
   "execution_count": 60,
   "id": "4b6a7cab",
   "metadata": {},
   "outputs": [
    {
     "name": "stdout",
     "output_type": "stream",
     "text": [
      "Sigmoid with sgd and epochs=15\n",
      "\n",
      "Epoch 1/15\n",
      "9/9 [==============================] - 0s 1ms/step - loss: 0.7903 - accuracy: 0.6615\n",
      "Epoch 2/15\n",
      "9/9 [==============================] - 0s 991us/step - loss: 0.7497 - accuracy: 0.6615\n",
      "Epoch 3/15\n",
      "9/9 [==============================] - 0s 1ms/step - loss: 0.7217 - accuracy: 0.6615\n",
      "Epoch 4/15\n",
      "9/9 [==============================] - 0s 779us/step - loss: 0.7009 - accuracy: 0.6615\n",
      "Epoch 5/15\n",
      "9/9 [==============================] - 0s 900us/step - loss: 0.6894 - accuracy: 0.6615\n",
      "Epoch 6/15\n",
      "9/9 [==============================] - 0s 822us/step - loss: 0.6821 - accuracy: 0.6615\n",
      "Epoch 7/15\n",
      "9/9 [==============================] - 0s 785us/step - loss: 0.6767 - accuracy: 0.6615\n",
      "Epoch 8/15\n",
      "9/9 [==============================] - 0s 760us/step - loss: 0.6728 - accuracy: 0.6615\n",
      "Epoch 9/15\n",
      "9/9 [==============================] - 0s 786us/step - loss: 0.6698 - accuracy: 0.6615\n",
      "Epoch 10/15\n",
      "9/9 [==============================] - 0s 808us/step - loss: 0.6678 - accuracy: 0.6615\n",
      "Epoch 11/15\n",
      "9/9 [==============================] - 0s 791us/step - loss: 0.6661 - accuracy: 0.6615\n",
      "Epoch 12/15\n",
      "9/9 [==============================] - 0s 883us/step - loss: 0.6645 - accuracy: 0.6615\n",
      "Epoch 13/15\n",
      "9/9 [==============================] - 0s 792us/step - loss: 0.6630 - accuracy: 0.6615\n",
      "Epoch 14/15\n",
      "9/9 [==============================] - 0s 898us/step - loss: 0.6612 - accuracy: 0.6615\n",
      "Epoch 15/15\n",
      "9/9 [==============================] - 0s 692us/step - loss: 0.6593 - accuracy: 0.6615\n",
      "576/576 [==============================] - 0s 599us/step - loss: 0.6577 - accuracy: 0.6615\n",
      "Train Accuracy:  0.6614583134651184\n",
      "192/192 [==============================] - 0s 604us/step - loss: 0.7015 - accuracy: 0.6198\n",
      "Test Accuracy:  0.6197916865348816\n"
     ]
    }
   ],
   "source": [
    "print(\"Sigmoid with sgd and epochs=15\\n\")\n",
    "modelR6 = Sequential()\n",
    "modelR6.add(Dense(12, input_dim=8, activation=\"sigmoid\"))\n",
    "modelR6.add(Dense(1, activation=\"sigmoid\"))\n",
    "modelR6.compile(loss='binary_crossentropy', optimizer='sgd', metrics=[\"accuracy\"])\n",
    "modelR6.fit(xTrain, yTrain, epochs=15, batch_size=64)\n",
    "print(\"Train Accuracy: \", modelR6.evaluate(xTrain, yTrain, batch_size=1)[1])\n",
    "print(\"Test Accuracy: \", modelR6.evaluate(xTest, yTest, batch_size=1)[1])"
   ]
  },
  {
   "cell_type": "code",
   "execution_count": 61,
   "id": "5d6da6c2",
   "metadata": {},
   "outputs": [
    {
     "name": "stdout",
     "output_type": "stream",
     "text": [
      "Relu with adam and epochs=15\n",
      "\n",
      "Epoch 1/15\n",
      "9/9 [==============================] - 0s 1ms/step - loss: 26.6525 - accuracy: 0.5885\n",
      "Epoch 2/15\n",
      "9/9 [==============================] - 0s 1ms/step - loss: 24.7343 - accuracy: 0.5972\n",
      "Epoch 3/15\n",
      "9/9 [==============================] - 0s 914us/step - loss: 22.8117 - accuracy: 0.6094\n",
      "Epoch 4/15\n",
      "9/9 [==============================] - 0s 846us/step - loss: 20.8443 - accuracy: 0.6059\n",
      "Epoch 5/15\n",
      "9/9 [==============================] - 0s 1ms/step - loss: 18.8902 - accuracy: 0.6076\n",
      "Epoch 6/15\n",
      "9/9 [==============================] - 0s 830us/step - loss: 16.9047 - accuracy: 0.6059\n",
      "Epoch 7/15\n",
      "9/9 [==============================] - 0s 842us/step - loss: 14.8111 - accuracy: 0.6076\n",
      "Epoch 8/15\n",
      "9/9 [==============================] - 0s 822us/step - loss: 12.8371 - accuracy: 0.6059\n",
      "Epoch 9/15\n",
      "9/9 [==============================] - 0s 817us/step - loss: 10.7240 - accuracy: 0.6076\n",
      "Epoch 10/15\n",
      "9/9 [==============================] - 0s 941us/step - loss: 8.9850 - accuracy: 0.5816\n",
      "Epoch 11/15\n",
      "9/9 [==============================] - 0s 773us/step - loss: 7.4424 - accuracy: 0.5573\n",
      "Epoch 12/15\n",
      "9/9 [==============================] - 0s 901us/step - loss: 6.3353 - accuracy: 0.5503\n",
      "Epoch 13/15\n",
      "9/9 [==============================] - 0s 815us/step - loss: 5.4551 - accuracy: 0.5590\n",
      "Epoch 14/15\n",
      "9/9 [==============================] - 0s 855us/step - loss: 4.8470 - accuracy: 0.5590\n",
      "Epoch 15/15\n",
      "9/9 [==============================] - 0s 779us/step - loss: 4.3400 - accuracy: 0.5556\n",
      "\n",
      "Relu with sgd (epoch=15):\n",
      "576/576 [==============================] - 0s 592us/step - loss: 4.0941 - accuracy: 0.5469\n",
      "Train Accuracy:  0.546875\n",
      "192/192 [==============================] - 0s 590us/step - loss: 3.7623 - accuracy: 0.5312\n",
      "Test Accuracy:  0.53125\n"
     ]
    }
   ],
   "source": [
    "print(\"Relu with adam and epochs=15\\n\")\n",
    "modelR7 = Sequential()\n",
    "modelR7.add(Dense(12, input_dim=8, activation=\"relu\"))\n",
    "modelR7.add(Dense(1, activation=\"sigmoid\"))\n",
    "modelR7.compile(loss='binary_crossentropy', optimizer='adam', metrics=[\"accuracy\"])\n",
    "modelR7.fit(xTrain, yTrain, epochs=15, batch_size=64)\n",
    "print(\"\\nRelu with sgd (epoch=15):\")\n",
    "print(\"Train Accuracy: \", modelR7.evaluate(xTrain, yTrain, batch_size=1)[1])\n",
    "print(\"Test Accuracy: \", modelR7.evaluate(xTest, yTest, batch_size=1)[1])"
   ]
  },
  {
   "cell_type": "code",
   "execution_count": 62,
   "id": "b3d5f720",
   "metadata": {},
   "outputs": [
    {
     "name": "stdout",
     "output_type": "stream",
     "text": [
      "Sigmoid with adam and epochs=15\n",
      "\n",
      "Epoch 1/15\n",
      "9/9 [==============================] - 0s 1ms/step - loss: 0.7025 - accuracy: 0.6597\n",
      "Epoch 2/15\n",
      "9/9 [==============================] - 0s 1ms/step - loss: 0.6912 - accuracy: 0.6597\n",
      "Epoch 3/15\n",
      "9/9 [==============================] - 0s 1ms/step - loss: 0.6839 - accuracy: 0.6597\n",
      "Epoch 4/15\n",
      "9/9 [==============================] - 0s 1ms/step - loss: 0.6787 - accuracy: 0.6597\n",
      "Epoch 5/15\n",
      "9/9 [==============================] - 0s 990us/step - loss: 0.6748 - accuracy: 0.6597\n",
      "Epoch 6/15\n",
      "9/9 [==============================] - 0s 914us/step - loss: 0.6713 - accuracy: 0.6597\n",
      "Epoch 7/15\n",
      "9/9 [==============================] - 0s 887us/step - loss: 0.6685 - accuracy: 0.6597\n",
      "Epoch 8/15\n",
      "9/9 [==============================] - 0s 766us/step - loss: 0.6660 - accuracy: 0.6597\n",
      "Epoch 9/15\n",
      "9/9 [==============================] - 0s 861us/step - loss: 0.6640 - accuracy: 0.6597\n",
      "Epoch 10/15\n",
      "9/9 [==============================] - 0s 813us/step - loss: 0.6622 - accuracy: 0.6597\n",
      "Epoch 11/15\n",
      "9/9 [==============================] - 0s 850us/step - loss: 0.6608 - accuracy: 0.6597\n",
      "Epoch 12/15\n",
      "9/9 [==============================] - 0s 806us/step - loss: 0.6591 - accuracy: 0.6597\n",
      "Epoch 13/15\n",
      "9/9 [==============================] - 0s 815us/step - loss: 0.6573 - accuracy: 0.6597\n",
      "Epoch 14/15\n",
      "9/9 [==============================] - 0s 855us/step - loss: 0.6558 - accuracy: 0.6597\n",
      "Epoch 15/15\n",
      "9/9 [==============================] - 0s 805us/step - loss: 0.6541 - accuracy: 0.6597\n",
      "576/576 [==============================] - 0s 581us/step - loss: 0.6531 - accuracy: 0.6597\n",
      "Train Accuracy:  0.6597222089767456\n",
      "192/192 [==============================] - 0s 607us/step - loss: 0.6846 - accuracy: 0.6146\n",
      "Test Accuracy:  0.6145833134651184\n"
     ]
    }
   ],
   "source": [
    "print(\"Sigmoid with adam and epochs=15\\n\")\n",
    "modelR8 = Sequential()\n",
    "modelR8.add(Dense(12, input_dim=8, activation=\"sigmoid\"))\n",
    "modelR8.add(Dense(1, activation=\"sigmoid\"))\n",
    "modelR8.compile(loss='binary_crossentropy', optimizer='adam', metrics=[\"accuracy\"])\n",
    "modelR8.fit(xTrain, yTrain, epochs=15, batch_size=64)\n",
    "print(\"Train Accuracy: \", modelR8.evaluate(xTrain, yTrain, batch_size=1)[1])\n",
    "print(\"Test Accuracy: \", modelR8.evaluate(xTest, yTest, batch_size=1)[1])"
   ]
  }
 ],
 "metadata": {
  "kernelspec": {
   "display_name": "Python 3",
   "language": "python",
   "name": "python3"
  },
  "language_info": {
   "codemirror_mode": {
    "name": "ipython",
    "version": 3
   },
   "file_extension": ".py",
   "mimetype": "text/x-python",
   "name": "python",
   "nbconvert_exporter": "python",
   "pygments_lexer": "ipython3",
   "version": "3.8.8"
  }
 },
 "nbformat": 4,
 "nbformat_minor": 5
}
