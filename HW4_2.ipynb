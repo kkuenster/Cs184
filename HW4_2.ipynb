{
 "cells": [
  {
   "cell_type": "code",
   "execution_count": 63,
   "id": "9d81547a",
   "metadata": {},
   "outputs": [
    {
     "name": "stdout",
     "output_type": "stream",
     "text": [
      "      0    1   2   3    4     5      6   7  8\n",
      "0     6  148  72  35    0  33.6  0.627  50  1\n",
      "1     1   85  66  29    0  26.6  0.351  31  0\n",
      "2     8  183  64   0    0  23.3  0.672  32  1\n",
      "3     1   89  66  23   94  28.1  0.167  21  0\n",
      "4     0  137  40  35  168  43.1  2.288  33  1\n",
      "..   ..  ...  ..  ..  ...   ...    ...  .. ..\n",
      "763  10  101  76  48  180  32.9  0.171  63  0\n",
      "764   2  122  70  27    0  36.8  0.340  27  0\n",
      "765   5  121  72  23  112  26.2  0.245  30  0\n",
      "766   1  126  60   0    0  30.1  0.349  47  1\n",
      "767   1   93  70  31    0  30.4  0.315  23  0\n",
      "\n",
      "[768 rows x 9 columns]\n",
      "(768, 9)\n"
     ]
    }
   ],
   "source": [
    "from keras.models import Sequential\n",
    "from keras.layers import Dense\n",
    "import pandas as pd\n",
    "from sklearn.model_selection import train_test_split\n",
    "\n",
    "df=pd.read_csv(\"prima-indians-diabetes.csv\", header=None) #read in csv and print\n",
    "print(df)\n",
    "print(df.shape)#print shape of the dataframe\n",
    "x=df.iloc[:,:-1].values #convert to array\n",
    "y=df.iloc[:,-1].values\n",
    "xTrain, xTest, yTrain, yTest = train_test_split(x, y, test_size=0.25, random_state=123) #split intop test and train"
   ]
  },
  {
   "cell_type": "code",
   "execution_count": 64,
   "id": "7dd12355",
   "metadata": {},
   "outputs": [
    {
     "name": "stdout",
     "output_type": "stream",
     "text": [
      "Relu with sgd and epochs=10\n",
      "\n",
      "Epoch 1/10\n",
      "9/9 [==============================] - 0s 948us/step - loss: 7.3734 - accuracy: 0.5208\n",
      "Epoch 2/10\n",
      "9/9 [==============================] - 0s 1ms/step - loss: 0.9115 - accuracy: 0.6528\n",
      "Epoch 3/10\n",
      "9/9 [==============================] - 0s 995us/step - loss: 0.8362 - accuracy: 0.6701\n",
      "Epoch 4/10\n",
      "9/9 [==============================] - 0s 1ms/step - loss: 0.7420 - accuracy: 0.6806\n",
      "Epoch 5/10\n",
      "9/9 [==============================] - 0s 1ms/step - loss: 0.7163 - accuracy: 0.6667\n",
      "Epoch 6/10\n",
      "9/9 [==============================] - 0s 955us/step - loss: 0.7138 - accuracy: 0.6840\n",
      "Epoch 7/10\n",
      "9/9 [==============================] - 0s 807us/step - loss: 0.7100 - accuracy: 0.6736\n",
      "Epoch 8/10\n",
      "9/9 [==============================] - 0s 783us/step - loss: 0.7177 - accuracy: 0.6684\n",
      "Epoch 9/10\n",
      "9/9 [==============================] - 0s 780us/step - loss: 0.6696 - accuracy: 0.6858\n",
      "Epoch 10/10\n",
      "9/9 [==============================] - 0s 818us/step - loss: 0.7009 - accuracy: 0.6719\n",
      "576/576 [==============================] - 0s 585us/step - loss: 0.6614 - accuracy: 0.6771\n",
      "Train Accuracy:  0.6770833134651184\n",
      "192/192 [==============================] - 0s 598us/step - loss: 0.6914 - accuracy: 0.6458\n",
      "Test Accuracy:  0.6458333134651184\n"
     ]
    }
   ],
   "source": [
    "print(\"Relu with sgd and epochs=10\\n\")\n",
    "modelR1 = Sequential()\n",
    "modelR1.add(Dense(12, input_dim=8, activation=\"relu\"))\n",
    "modelR1.add(Dense(1, activation=\"sigmoid\"))\n",
    "modelR1.compile(loss='binary_crossentropy', optimizer='sgd', metrics=[\"accuracy\"])\n",
    "modelR1.fit(xTrain, yTrain, epochs=10, batch_size=64)\n",
    "print(\"Train Accuracy: \", modelR1.evaluate(xTrain, yTrain, batch_size=1)[1])\n",
    "print(\"Test Accuracy: \", modelR1.evaluate(xTest, yTest, batch_size=1)[1])"
   ]
  },
  {
   "cell_type": "code",
   "execution_count": 65,
   "id": "1168bdd8",
   "metadata": {},
   "outputs": [
    {
     "name": "stdout",
     "output_type": "stream",
     "text": [
      "Sigmoid with sgd and epochs=10\n",
      "\n",
      "Epoch 1/10\n",
      "9/9 [==============================] - 0s 999us/step - loss: 0.6645 - accuracy: 0.6111\n",
      "Epoch 2/10\n",
      "9/9 [==============================] - 0s 993us/step - loss: 0.6421 - accuracy: 0.6476\n",
      "Epoch 3/10\n",
      "9/9 [==============================] - 0s 867us/step - loss: 0.6323 - accuracy: 0.6528\n",
      "Epoch 4/10\n",
      "9/9 [==============================] - 0s 924us/step - loss: 0.6276 - accuracy: 0.6597\n",
      "Epoch 5/10\n",
      "9/9 [==============================] - 0s 907us/step - loss: 0.6233 - accuracy: 0.6580\n",
      "Epoch 6/10\n",
      "9/9 [==============================] - 0s 807us/step - loss: 0.6208 - accuracy: 0.6545\n",
      "Epoch 7/10\n",
      "9/9 [==============================] - 0s 808us/step - loss: 0.6179 - accuracy: 0.6615\n",
      "Epoch 8/10\n",
      "9/9 [==============================] - 0s 808us/step - loss: 0.6166 - accuracy: 0.6615\n",
      "Epoch 9/10\n",
      "9/9 [==============================] - 0s 810us/step - loss: 0.6154 - accuracy: 0.6632\n",
      "Epoch 10/10\n",
      "9/9 [==============================] - 0s 751us/step - loss: 0.6145 - accuracy: 0.6701\n",
      "576/576 [==============================] - 0s 596us/step - loss: 0.6129 - accuracy: 0.6667\n",
      "Train Accuracy:  0.6666666865348816\n",
      "192/192 [==============================] - 0s 604us/step - loss: 0.6070 - accuracy: 0.6771\n",
      "Test Accuracy:  0.6770833134651184\n"
     ]
    }
   ],
   "source": [
    "print(\"Sigmoid with sgd and epochs=10\\n\")\n",
    "modelR2 = Sequential()\n",
    "modelR2.add(Dense(12, input_dim=8, activation=\"sigmoid\"))\n",
    "modelR2.add(Dense(1, activation=\"sigmoid\"))\n",
    "modelR2.compile(loss='binary_crossentropy', optimizer='sgd', metrics=[\"accuracy\"])\n",
    "modelR2.fit(xTrain, yTrain, epochs=10, batch_size=64)\n",
    "print(\"Train Accuracy: \", modelR2.evaluate(xTrain, yTrain, batch_size=1)[1])\n",
    "print(\"Test Accuracy: \", modelR2.evaluate(xTest, yTest, batch_size=1)[1])"
   ]
  },
  {
   "cell_type": "code",
   "execution_count": 66,
   "id": "a49db451",
   "metadata": {
    "scrolled": true
   },
   "outputs": [
    {
     "name": "stdout",
     "output_type": "stream",
     "text": [
      "Relu with adam and epochs=10\n",
      "\n",
      "Epoch 1/10\n",
      "9/9 [==============================] - 0s 1ms/step - loss: 21.2221 - accuracy: 0.6424\n",
      "Epoch 2/10\n",
      "9/9 [==============================] - 0s 1ms/step - loss: 18.1649 - accuracy: 0.6493\n",
      "Epoch 3/10\n",
      "9/9 [==============================] - 0s 1ms/step - loss: 15.3020 - accuracy: 0.6632\n",
      "Epoch 4/10\n",
      "9/9 [==============================] - 0s 999us/step - loss: 13.1298 - accuracy: 0.6441\n",
      "Epoch 5/10\n",
      "9/9 [==============================] - 0s 1ms/step - loss: 11.0838 - accuracy: 0.6372\n",
      "Epoch 6/10\n",
      "9/9 [==============================] - 0s 842us/step - loss: 9.2690 - accuracy: 0.6372\n",
      "Epoch 7/10\n",
      "9/9 [==============================] - 0s 787us/step - loss: 7.7376 - accuracy: 0.6389\n",
      "Epoch 8/10\n",
      "9/9 [==============================] - 0s 822us/step - loss: 6.2036 - accuracy: 0.6319\n",
      "Epoch 9/10\n",
      "9/9 [==============================] - 0s 801us/step - loss: 4.8891 - accuracy: 0.6198\n",
      "Epoch 10/10\n",
      "9/9 [==============================] - 0s 824us/step - loss: 3.9142 - accuracy: 0.6076\n",
      "576/576 [==============================] - 0s 595us/step - loss: 3.6018 - accuracy: 0.5903\n",
      "Train Accuracy:  0.5902777910232544\n",
      "192/192 [==============================] - 0s 622us/step - loss: 4.2372 - accuracy: 0.6302\n",
      "Test Accuracy:  0.6302083134651184\n"
     ]
    }
   ],
   "source": [
    "print(\"Relu with adam and epochs=10\\n\")\n",
    "modelR3 = Sequential()\n",
    "modelR3.add(Dense(12, input_dim=8, activation=\"relu\"))\n",
    "modelR3.add(Dense(1, activation=\"sigmoid\"))\n",
    "modelR3.compile(loss='binary_crossentropy', optimizer='adam', metrics=[\"accuracy\"])\n",
    "modelR3.fit(xTrain, yTrain, epochs=10, batch_size=64)\n",
    "print(\"Train Accuracy: \", modelR3.evaluate(xTrain, yTrain, batch_size=1)[1])\n",
    "print(\"Test Accuracy: \", modelR3.evaluate(xTest, yTest, batch_size=1)[1])"
   ]
  },
  {
   "cell_type": "code",
   "execution_count": 67,
   "id": "257c9fc7",
   "metadata": {},
   "outputs": [
    {
     "name": "stdout",
     "output_type": "stream",
     "text": [
      "Sigmoid with adam and epochs=10\n",
      "\n",
      "Epoch 1/10\n",
      "9/9 [==============================] - 0s 1ms/step - loss: 0.7528 - accuracy: 0.4549\n",
      "Epoch 2/10\n",
      "9/9 [==============================] - 0s 1ms/step - loss: 0.7347 - accuracy: 0.4792\n",
      "Epoch 3/10\n",
      "9/9 [==============================] - 0s 1ms/step - loss: 0.7225 - accuracy: 0.5087\n",
      "Epoch 4/10\n",
      "9/9 [==============================] - 0s 842us/step - loss: 0.7125 - accuracy: 0.5174\n",
      "Epoch 5/10\n",
      "9/9 [==============================] - 0s 840us/step - loss: 0.7045 - accuracy: 0.5278\n",
      "Epoch 6/10\n",
      "9/9 [==============================] - 0s 771us/step - loss: 0.6966 - accuracy: 0.5365\n",
      "Epoch 7/10\n",
      "9/9 [==============================] - 0s 812us/step - loss: 0.6895 - accuracy: 0.5417\n",
      "Epoch 8/10\n",
      "9/9 [==============================] - 0s 809us/step - loss: 0.6833 - accuracy: 0.5556\n",
      "Epoch 9/10\n",
      "9/9 [==============================] - 0s 790us/step - loss: 0.6786 - accuracy: 0.5625\n",
      "Epoch 10/10\n",
      "9/9 [==============================] - 0s 757us/step - loss: 0.6754 - accuracy: 0.6094\n",
      "576/576 [==============================] - 0s 591us/step - loss: 0.6729 - accuracy: 0.6597\n",
      "Train Accuracy:  0.6597222089767456\n",
      "192/192 [==============================] - 0s 618us/step - loss: 0.6672 - accuracy: 0.6198\n",
      "Test Accuracy:  0.6197916865348816\n"
     ]
    }
   ],
   "source": [
    "print(\"Sigmoid with adam and epochs=10\\n\")\n",
    "modelR4 = Sequential()\n",
    "modelR4.add(Dense(12, input_dim=8, activation=\"sigmoid\"))\n",
    "modelR4.add(Dense(1, activation=\"sigmoid\"))\n",
    "modelR4.compile(loss='binary_crossentropy', optimizer='adam', metrics=[\"accuracy\"])\n",
    "modelR4.fit(xTrain, yTrain, epochs=10, batch_size=64)\n",
    "print(\"Train Accuracy: \", modelR4.evaluate(xTrain, yTrain, batch_size=1)[1])\n",
    "print(\"Test Accuracy: \", modelR4.evaluate(xTest, yTest, batch_size=1)[1])"
   ]
  },
  {
   "cell_type": "code",
   "execution_count": 68,
   "id": "54592a9e",
   "metadata": {},
   "outputs": [
    {
     "name": "stdout",
     "output_type": "stream",
     "text": [
      "Relu with sgd and epochs=15\n",
      "\n",
      "Epoch 1/15\n",
      "9/9 [==============================] - 0s 984us/step - loss: 7.2411 - accuracy: 0.5972\n",
      "Epoch 2/15\n",
      "9/9 [==============================] - 0s 1ms/step - loss: 0.7897 - accuracy: 0.6458\n",
      "Epoch 3/15\n",
      "9/9 [==============================] - 0s 955us/step - loss: 0.7360 - accuracy: 0.6545\n",
      "Epoch 4/15\n",
      "9/9 [==============================] - 0s 843us/step - loss: 0.7165 - accuracy: 0.6528\n",
      "Epoch 5/15\n",
      "9/9 [==============================] - 0s 960us/step - loss: 0.7074 - accuracy: 0.6580\n",
      "Epoch 6/15\n",
      "9/9 [==============================] - 0s 806us/step - loss: 0.6990 - accuracy: 0.6649\n",
      "Epoch 7/15\n",
      "9/9 [==============================] - 0s 1ms/step - loss: 0.6923 - accuracy: 0.6562\n",
      "Epoch 8/15\n",
      "9/9 [==============================] - 0s 771us/step - loss: 0.6920 - accuracy: 0.6528\n",
      "Epoch 9/15\n",
      "9/9 [==============================] - 0s 937us/step - loss: 0.6794 - accuracy: 0.6667\n",
      "Epoch 10/15\n",
      "9/9 [==============================] - 0s 853us/step - loss: 0.6786 - accuracy: 0.6632\n",
      "Epoch 11/15\n",
      "9/9 [==============================] - 0s 824us/step - loss: 0.6705 - accuracy: 0.6736\n",
      "Epoch 12/15\n",
      "9/9 [==============================] - 0s 786us/step - loss: 0.6714 - accuracy: 0.6632\n",
      "Epoch 13/15\n",
      "9/9 [==============================] - 0s 758us/step - loss: 0.6799 - accuracy: 0.6597\n",
      "Epoch 14/15\n",
      "9/9 [==============================] - 0s 810us/step - loss: 0.6685 - accuracy: 0.6667\n",
      "Epoch 15/15\n",
      "9/9 [==============================] - 0s 730us/step - loss: 0.6653 - accuracy: 0.6701\n",
      "576/576 [==============================] - 0s 603us/step - loss: 0.6621 - accuracy: 0.6719\n",
      "Train Accuracy: 0.671875\n",
      "192/192 [==============================] - 0s 605us/step - loss: 0.7544 - accuracy: 0.6198\n",
      "Test Accuracy: 0.6197916865348816\n"
     ]
    }
   ],
   "source": [
    "print(\"Relu with sgd and epochs=15\\n\")\n",
    "modelR5 = Sequential()\n",
    "modelR5.add(Dense(12, input_dim=8, activation=\"relu\"))\n",
    "modelR5.add(Dense(1, activation=\"sigmoid\"))\n",
    "modelR5.compile(loss=\"binary_crossentropy\", optimizer=\"sgd\", metrics=[\"accuracy\"])\n",
    "modelR5.fit(xTrain, yTrain, epochs=15, batch_size=64)\n",
    "print(\"Train Accuracy:\", modelR5.evaluate(xTrain, yTrain, batch_size=1)[1])\n",
    "print(\"Test Accuracy:\", modelR5.evaluate(xTest, yTest, batch_size=1)[1])"
   ]
  },
  {
   "cell_type": "code",
   "execution_count": 69,
   "id": "96bfe2c0",
   "metadata": {},
   "outputs": [
    {
     "name": "stdout",
     "output_type": "stream",
     "text": [
      "Sigmoid with sgd and epochs=15\n",
      "\n",
      "Epoch 1/15\n",
      "9/9 [==============================] - 0s 1ms/step - loss: 0.6583 - accuracy: 0.6580\n",
      "Epoch 2/15\n",
      "9/9 [==============================] - 0s 958us/step - loss: 0.6513 - accuracy: 0.6580\n",
      "Epoch 3/15\n",
      "9/9 [==============================] - 0s 1ms/step - loss: 0.6466 - accuracy: 0.6580\n",
      "Epoch 4/15\n",
      "9/9 [==============================] - 0s 1ms/step - loss: 0.6436 - accuracy: 0.6615\n",
      "Epoch 5/15\n",
      "9/9 [==============================] - 0s 1ms/step - loss: 0.6414 - accuracy: 0.6615\n",
      "Epoch 6/15\n",
      "9/9 [==============================] - 0s 951us/step - loss: 0.6397 - accuracy: 0.6615\n",
      "Epoch 7/15\n",
      "9/9 [==============================] - 0s 1ms/step - loss: 0.6377 - accuracy: 0.6615\n",
      "Epoch 8/15\n",
      "9/9 [==============================] - 0s 803us/step - loss: 0.6361 - accuracy: 0.6615\n",
      "Epoch 9/15\n",
      "9/9 [==============================] - 0s 825us/step - loss: 0.6353 - accuracy: 0.6615\n",
      "Epoch 10/15\n",
      "9/9 [==============================] - 0s 758us/step - loss: 0.6348 - accuracy: 0.6615\n",
      "Epoch 11/15\n",
      "9/9 [==============================] - 0s 769us/step - loss: 0.6342 - accuracy: 0.6615\n",
      "Epoch 12/15\n",
      "9/9 [==============================] - 0s 746us/step - loss: 0.6334 - accuracy: 0.6615\n",
      "Epoch 13/15\n",
      "9/9 [==============================] - 0s 804us/step - loss: 0.6326 - accuracy: 0.6615\n",
      "Epoch 14/15\n",
      "9/9 [==============================] - 0s 744us/step - loss: 0.6320 - accuracy: 0.6615\n",
      "Epoch 15/15\n",
      "9/9 [==============================] - 0s 818us/step - loss: 0.6316 - accuracy: 0.6615\n",
      "576/576 [==============================] - 0s 590us/step - loss: 0.6308 - accuracy: 0.6615\n",
      "Train Accuracy:  0.6614583134651184\n",
      "192/192 [==============================] - 0s 609us/step - loss: 0.6649 - accuracy: 0.6198\n",
      "Test Accuracy:  0.6197916865348816\n"
     ]
    }
   ],
   "source": [
    "print(\"Sigmoid with sgd and epochs=15\\n\")\n",
    "modelR6 = Sequential()\n",
    "modelR6.add(Dense(12, input_dim=8, activation=\"sigmoid\"))\n",
    "modelR6.add(Dense(1, activation=\"sigmoid\"))\n",
    "modelR6.compile(loss='binary_crossentropy', optimizer='sgd', metrics=[\"accuracy\"])\n",
    "modelR6.fit(xTrain, yTrain, epochs=15, batch_size=64)\n",
    "print(\"Train Accuracy: \", modelR6.evaluate(xTrain, yTrain, batch_size=1)[1])\n",
    "print(\"Test Accuracy: \", modelR6.evaluate(xTest, yTest, batch_size=1)[1])"
   ]
  },
  {
   "cell_type": "code",
   "execution_count": 70,
   "id": "c713e88d",
   "metadata": {},
   "outputs": [
    {
     "name": "stdout",
     "output_type": "stream",
     "text": [
      "Relu with adam and epochs=15\n",
      "\n",
      "Epoch 1/15\n",
      "9/9 [==============================] - 0s 1ms/step - loss: 11.6197 - accuracy: 0.4705\n",
      "Epoch 2/15\n",
      "9/9 [==============================] - 0s 1ms/step - loss: 9.5901 - accuracy: 0.4688\n",
      "Epoch 3/15\n",
      "9/9 [==============================] - 0s 939us/step - loss: 7.7747 - accuracy: 0.4826\n",
      "Epoch 4/15\n",
      "9/9 [==============================] - 0s 1ms/step - loss: 6.0549 - accuracy: 0.4792\n",
      "Epoch 5/15\n",
      "9/9 [==============================] - 0s 999us/step - loss: 4.5665 - accuracy: 0.4861\n",
      "Epoch 6/15\n",
      "9/9 [==============================] - 0s 817us/step - loss: 3.5048 - accuracy: 0.4878\n",
      "Epoch 7/15\n",
      "9/9 [==============================] - 0s 970us/step - loss: 2.7638 - accuracy: 0.5104\n",
      "Epoch 8/15\n",
      "9/9 [==============================] - 0s 793us/step - loss: 2.3451 - accuracy: 0.5590\n",
      "Epoch 9/15\n",
      "9/9 [==============================] - 0s 839us/step - loss: 2.2182 - accuracy: 0.5660\n",
      "Epoch 10/15\n",
      "9/9 [==============================] - 0s 858us/step - loss: 2.1078 - accuracy: 0.5573\n",
      "Epoch 11/15\n",
      "9/9 [==============================] - 0s 822us/step - loss: 1.9843 - accuracy: 0.5573\n",
      "Epoch 12/15\n",
      "9/9 [==============================] - 0s 862us/step - loss: 1.8929 - accuracy: 0.5781\n",
      "Epoch 13/15\n",
      "9/9 [==============================] - 0s 770us/step - loss: 1.7933 - accuracy: 0.5868\n",
      "Epoch 14/15\n",
      "9/9 [==============================] - 0s 893us/step - loss: 1.7102 - accuracy: 0.5851\n",
      "Epoch 15/15\n",
      "9/9 [==============================] - 0s 778us/step - loss: 1.6225 - accuracy: 0.6007\n",
      "576/576 [==============================] - 0s 573us/step - loss: 1.5685 - accuracy: 0.6024\n",
      "Train Accuracy:  0.6024305820465088\n",
      "192/192 [==============================] - 0s 585us/step - loss: 1.8893 - accuracy: 0.6198\n",
      "Test Accuracy:  0.6197916865348816\n"
     ]
    }
   ],
   "source": [
    "print(\"Relu with adam and epochs=15\\n\")\n",
    "modelR7 = Sequential()\n",
    "modelR7.add(Dense(12, input_dim=8, activation=\"relu\"))\n",
    "modelR7.add(Dense(1, activation=\"sigmoid\"))\n",
    "modelR7.compile(loss='binary_crossentropy', optimizer='adam', metrics=[\"accuracy\"])\n",
    "modelR7.fit(xTrain, yTrain, epochs=15, batch_size=64)\n",
    "print(\"Train Accuracy: \", modelR7.evaluate(xTrain, yTrain, batch_size=1)[1])\n",
    "print(\"Test Accuracy: \", modelR7.evaluate(xTest, yTest, batch_size=1)[1])"
   ]
  },
  {
   "cell_type": "code",
   "execution_count": 71,
   "id": "8a0ce875",
   "metadata": {},
   "outputs": [
    {
     "name": "stdout",
     "output_type": "stream",
     "text": [
      "Sigmoid with adam and epochs=15\n",
      "\n",
      "Epoch 1/15\n",
      "9/9 [==============================] - 0s 1ms/step - loss: 0.7744 - accuracy: 0.6615\n",
      "Epoch 2/15\n",
      "9/9 [==============================] - 0s 867us/step - loss: 0.7525 - accuracy: 0.6615\n",
      "Epoch 3/15\n",
      "9/9 [==============================] - 0s 1ms/step - loss: 0.7352 - accuracy: 0.6615\n",
      "Epoch 4/15\n",
      "9/9 [==============================] - 0s 1ms/step - loss: 0.7199 - accuracy: 0.6615\n",
      "Epoch 5/15\n",
      "9/9 [==============================] - 0s 874us/step - loss: 0.7089 - accuracy: 0.6580\n",
      "Epoch 6/15\n",
      "9/9 [==============================] - 0s 828us/step - loss: 0.6988 - accuracy: 0.6580\n",
      "Epoch 7/15\n",
      "9/9 [==============================] - 0s 741us/step - loss: 0.6913 - accuracy: 0.6580\n",
      "Epoch 8/15\n",
      "9/9 [==============================] - 0s 869us/step - loss: 0.6840 - accuracy: 0.6597\n",
      "Epoch 9/15\n",
      "9/9 [==============================] - 0s 784us/step - loss: 0.6774 - accuracy: 0.6597\n",
      "Epoch 10/15\n",
      "9/9 [==============================] - 0s 805us/step - loss: 0.6703 - accuracy: 0.6597\n",
      "Epoch 11/15\n",
      "9/9 [==============================] - 0s 902us/step - loss: 0.6649 - accuracy: 0.6597\n",
      "Epoch 12/15\n",
      "9/9 [==============================] - 0s 836us/step - loss: 0.6597 - accuracy: 0.6615\n",
      "Epoch 13/15\n",
      "9/9 [==============================] - 0s 906us/step - loss: 0.6542 - accuracy: 0.6615\n",
      "Epoch 14/15\n",
      "9/9 [==============================] - 0s 727us/step - loss: 0.6513 - accuracy: 0.6615\n",
      "Epoch 15/15\n",
      "9/9 [==============================] - 0s 881us/step - loss: 0.6494 - accuracy: 0.6615\n",
      "576/576 [==============================] - 0s 590us/step - loss: 0.6486 - accuracy: 0.6615\n",
      "Train Accuracy:  0.6614583134651184\n",
      "192/192 [==============================] - 0s 601us/step - loss: 0.6916 - accuracy: 0.6198\n",
      "Test Accuracy:  0.6197916865348816\n"
     ]
    }
   ],
   "source": [
    "print(\"Sigmoid with adam and epochs=15\\n\")\n",
    "modelR8 = Sequential()\n",
    "modelR8.add(Dense(12, input_dim=8, activation=\"sigmoid\"))\n",
    "modelR8.add(Dense(1, activation=\"sigmoid\"))\n",
    "modelR8.compile(loss='binary_crossentropy', optimizer='adam', metrics=[\"accuracy\"])\n",
    "modelR8.fit(xTrain, yTrain, epochs=15, batch_size=64)\n",
    "print(\"Train Accuracy: \", modelR8.evaluate(xTrain, yTrain, batch_size=1)[1])\n",
    "print(\"Test Accuracy: \", modelR8.evaluate(xTest, yTest, batch_size=1)[1])"
   ]
  }
 ],
 "metadata": {
  "kernelspec": {
   "display_name": "Python 3",
   "language": "python",
   "name": "python3"
  },
  "language_info": {
   "codemirror_mode": {
    "name": "ipython",
    "version": 3
   },
   "file_extension": ".py",
   "mimetype": "text/x-python",
   "name": "python",
   "nbconvert_exporter": "python",
   "pygments_lexer": "ipython3",
   "version": "3.8.8"
  }
 },
 "nbformat": 4,
 "nbformat_minor": 5
}
