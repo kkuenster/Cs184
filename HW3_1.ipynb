{
 "cells": [
  {
   "cell_type": "code",
   "execution_count": 15,
   "id": "e440c858",
   "metadata": {},
   "outputs": [
    {
     "name": "stdout",
     "output_type": "stream",
     "text": [
      "      User ID  Gender  Age  EstimatedSalary  Purchased\n",
      "0    15624510    Male   19            19000          0\n",
      "1    15810944    Male   35            20000          0\n",
      "2    15668575  Female   26            43000          0\n",
      "3    15603246  Female   27            57000          0\n",
      "4    15804002    Male   19            76000          0\n",
      "..        ...     ...  ...              ...        ...\n",
      "395  15691863  Female   46            41000          1\n",
      "396  15706071    Male   51            23000          1\n",
      "397  15654296  Female   50            20000          1\n",
      "398  15755018    Male   36            33000          0\n",
      "399  15594041  Female   49            36000          1\n",
      "\n",
      "[400 rows x 5 columns]\n"
     ]
    },
    {
     "data": {
      "text/plain": [
       "(400, 5)"
      ]
     },
     "execution_count": 15,
     "metadata": {},
     "output_type": "execute_result"
    }
   ],
   "source": [
    "#step 1: Load the dataset into a pandas DataFrame and print it along with its shape\n",
    "import pandas as pd\n",
    "\n",
    "# creating dataframe containing csv data\n",
    "df = pd.read_csv('Social_Network_Ads.csv')\n",
    "\n",
    "print (df) # printing dataframe\n",
    "\n",
    "df.shape # printing shape"
   ]
  },
  {
   "cell_type": "code",
   "execution_count": 16,
   "id": "7a2f11e0",
   "metadata": {
    "scrolled": true
   },
   "outputs": [
    {
     "data": {
      "text/plain": [
       "User ID             int64\n",
       "Gender             object\n",
       "Age                 int64\n",
       "EstimatedSalary     int64\n",
       "Purchased           int64\n",
       "dtype: object"
      ]
     },
     "execution_count": 16,
     "metadata": {},
     "output_type": "execute_result"
    }
   ],
   "source": [
    "#step 2: Print the column names and the data type of each column\n",
    "df.dtypes"
   ]
  },
  {
   "cell_type": "code",
   "execution_count": 17,
   "id": "41443f0d",
   "metadata": {},
   "outputs": [
    {
     "name": "stdout",
     "output_type": "stream",
     "text": [
      "   Gender  Age  EstimatedSalary  Purchased\n",
      "0       1   19            19000          0\n",
      "1       1   35            20000          0\n",
      "2       0   26            43000          0\n",
      "3       0   27            57000          0\n",
      "4       1   19            76000          0\n"
     ]
    }
   ],
   "source": [
    "# encoding 'Gender' to be binary \n",
    "# dropping 'User ID' from df (unnecessary feature)\n",
    "from sklearn import preprocessing\n",
    "\n",
    "l_e = preprocessing.LabelEncoder()\n",
    "\n",
    "df['Gender'] = l_e.fit_transform(df['Gender'])\n",
    "\n",
    "df.drop('User ID', axis=1, inplace=True)\n",
    "\n",
    "print(df.head())"
   ]
  },
  {
   "cell_type": "code",
   "execution_count": 28,
   "id": "5c980b36",
   "metadata": {},
   "outputs": [],
   "source": [
    "#step 3: Normalize the numerical input features \n",
    "\n",
    "# making copy of df\n",
    "scaled_features = df.copy()\n",
    "\n",
    "# determining which cols to scale\n",
    "col_names = ['Age', 'EstimatedSalary']\n",
    "features = scaled_features[col_names]\n",
    "\n",
    "# scale columns \n",
    "scaler = StandardScaler().fit(features.values)\n",
    "features = scaler.transform(features.values)\n",
    "\n",
    "scaled_features[col_names] = features\n",
    "\n",
    "# splitting model into test and train groups \n",
    "from sklearn.model_selection import train_test_split\n",
    "\n",
    "# creating X and y sets \n",
    "X = df.iloc[:,0:3] # gender, age, salary\n",
    "y = df.iloc[:,3]   # purchased \n",
    "\n",
    "# print(X) # print to make sure each contains correct features\n",
    "# print(y)\n",
    "\n",
    "# creating test and train sets for X and y \n",
    "X_train, X_test, y_train, y_test = train_test_split(X, y, test_size = 0.3, random_state = 44)"
   ]
  },
  {
   "cell_type": "code",
   "execution_count": 32,
   "id": "d57648ca",
   "metadata": {
    "scrolled": true
   },
   "outputs": [
    {
     "name": "stdout",
     "output_type": "stream",
     "text": [
      "15 0.13929\n",
      "16 0.125\n",
      "17 0.12143\n",
      "18 0.13929\n",
      "19 0.13571\n",
      "20 0.12857\n",
      "21 0.11429\n",
      "22 0.11429\n",
      "23 0.11786\n",
      "24 0.125\n",
      "25 0.125\n",
      "26 0.1\n",
      "27 0.125\n",
      "28 0.12143\n",
      "29 0.12143\n",
      "30 0.125\n",
      "31 0.11786\n",
      "32 0.11071\n",
      "33 0.125\n",
      "34 0.11071\n",
      "35 0.12143\n",
      "36 0.11071\n",
      "37 0.11071\n",
      "38 0.1\n",
      "39 0.11071\n",
      "40 0.11429\n",
      "41 0.11786\n",
      "42 0.11786\n",
      "43 0.12143\n",
      "44 0.11786\n",
      "45 0.11429\n",
      "46 0.10714\n",
      "47 0.11786\n",
      "48 0.11071\n",
      "49 0.12143\n",
      "50 0.11429\n",
      "51 0.12143\n",
      "52 0.11071\n",
      "53 0.11786\n",
      "54 0.11429\n",
      "55 0.10714\n",
      "56 0.10714\n",
      "57 0.11786\n",
      "58 0.11429\n",
      "59 0.11786\n",
      "60 0.125\n",
      "61 0.10357\n",
      "62 0.10357\n",
      "63 0.11429\n",
      "64 0.125\n",
      "65 0.10357\n",
      "66 0.1\n",
      "67 0.10714\n",
      "68 0.11071\n",
      "69 0.10714\n",
      "70 0.11429\n",
      "71 0.11429\n",
      "72 0.10714\n",
      "73 0.11071\n",
      "74 0.10714\n",
      "75 0.10714\n",
      "76 0.10357\n",
      "77 0.11071\n",
      "78 0.11071\n",
      "79 0.11786\n",
      "80 0.11786\n",
      "81 0.11429\n",
      "82 0.125\n",
      "83 0.11786\n",
      "84 0.11071\n",
      "85 0.11429\n",
      "86 0.10357\n",
      "87 0.11429\n",
      "88 0.11429\n",
      "89 0.11429\n",
      "90 0.11071\n",
      "91 0.10357\n",
      "92 0.10714\n",
      "93 0.1\n",
      "94 0.10357\n",
      "95 0.10714\n",
      "96 0.10357\n",
      "97 0.11071\n",
      "98 0.11429\n",
      "99 0.10714\n",
      "100 0.11786\n",
      "101 0.10714\n",
      "102 0.11071\n",
      "103 0.11429\n",
      "104 0.11786\n",
      "105 0.11429\n",
      "106 0.1\n",
      "107 0.10714\n",
      "108 0.10714\n",
      "109 0.11429\n",
      "110 0.1\n",
      "111 0.10357\n",
      "112 0.11786\n",
      "113 0.10357\n",
      "114 0.11429\n",
      "115 0.10714\n",
      "116 0.11071\n",
      "117 0.10714\n",
      "118 0.11429\n",
      "119 0.11429\n",
      "120 0.10714\n",
      "121 0.11071\n",
      "122 0.1\n",
      "123 0.10714\n",
      "124 0.10714\n",
      "125 0.11071\n",
      "126 0.10357\n",
      "127 0.11071\n",
      "128 0.11071\n",
      "129 0.11071\n",
      "130 0.11071\n",
      "131 0.10357\n",
      "132 0.11071\n",
      "133 0.10714\n",
      "134 0.10357\n",
      "135 0.11071\n",
      "136 0.11071\n",
      "137 0.10357\n",
      "138 0.11429\n",
      "139 0.10714\n",
      "140 0.11071\n",
      "141 0.10357\n",
      "142 0.10714\n",
      "143 0.11071\n",
      "144 0.11429\n",
      "145 0.1\n",
      "146 0.11071\n",
      "147 0.11429\n",
      "148 0.11429\n",
      "149 0.11071\n"
     ]
    }
   ],
   "source": [
    "#step 4: Perform Random Forest Classification using sklearn. Make sure to enable bootstrap and oob_score\n",
    "#step 5: Find the oob error for different numbers of trees. Figure out which parameter sets the number of trees.\n",
    "for i in range(15, 150):\n",
    "    forest = RandomForestClassifier(bootstrap=True, oob_score = True, n_estimators =i)\n",
    "    forest.fit(X_train, y_train)\n",
    "    print(i, round(1-forest.oob_score_, 5))"
   ]
  },
  {
   "cell_type": "code",
   "execution_count": 35,
   "id": "2065e634",
   "metadata": {},
   "outputs": [],
   "source": [
    "#step 6: Plot the oob error vs number of trees. (Similar to example in class) \n",
    "#######  and find the number of trees with the lowest error. If multiple, report all.\n",
    "    \n",
    "import matplotlib.pyplot as plt \n"
   ]
  },
  {
   "cell_type": "code",
   "execution_count": null,
   "id": "cba73b23",
   "metadata": {},
   "outputs": [],
   "source": []
  }
 ],
 "metadata": {
  "kernelspec": {
   "display_name": "Python 3 (ipykernel)",
   "language": "python",
   "name": "python3"
  },
  "language_info": {
   "codemirror_mode": {
    "name": "ipython",
    "version": 3
   },
   "file_extension": ".py",
   "mimetype": "text/x-python",
   "name": "python",
   "nbconvert_exporter": "python",
   "pygments_lexer": "ipython3",
   "version": "3.9.7"
  }
 },
 "nbformat": 4,
 "nbformat_minor": 5
}
