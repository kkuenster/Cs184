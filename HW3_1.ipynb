{
 "cells": [
  {
   "cell_type": "code",
   "execution_count": 39,
   "id": "e440c858",
   "metadata": {
    "scrolled": true
   },
   "outputs": [
    {
     "name": "stdout",
     "output_type": "stream",
     "text": [
      "      User ID  Gender  Age  EstimatedSalary  Purchased\n",
      "0    15624510    Male   19            19000          0\n",
      "1    15810944    Male   35            20000          0\n",
      "2    15668575  Female   26            43000          0\n",
      "3    15603246  Female   27            57000          0\n",
      "4    15804002    Male   19            76000          0\n",
      "..        ...     ...  ...              ...        ...\n",
      "395  15691863  Female   46            41000          1\n",
      "396  15706071    Male   51            23000          1\n",
      "397  15654296  Female   50            20000          1\n",
      "398  15755018    Male   36            33000          0\n",
      "399  15594041  Female   49            36000          1\n",
      "\n",
      "[400 rows x 5 columns]\n"
     ]
    },
    {
     "data": {
      "text/plain": [
       "(400, 5)"
      ]
     },
     "execution_count": 39,
     "metadata": {},
     "output_type": "execute_result"
    }
   ],
   "source": [
    "#step 1: Load the dataset into a pandas DataFrame and print it along with its shape\n",
    "import pandas as pd\n",
    "\n",
    "# creating dataframe containing csv data\n",
    "df = pd.read_csv('Social_Network_Ads.csv')\n",
    "\n",
    "print (df) # printing dataframe\n",
    "\n",
    "df.shape # printing shape"
   ]
  },
  {
   "cell_type": "code",
   "execution_count": 40,
   "id": "7a2f11e0",
   "metadata": {
    "scrolled": true
   },
   "outputs": [
    {
     "data": {
      "text/plain": [
       "User ID             int64\n",
       "Gender             object\n",
       "Age                 int64\n",
       "EstimatedSalary     int64\n",
       "Purchased           int64\n",
       "dtype: object"
      ]
     },
     "execution_count": 40,
     "metadata": {},
     "output_type": "execute_result"
    }
   ],
   "source": [
    "#step 2: Print the column names and the data type of each column\n",
    "df.dtypes"
   ]
  },
  {
   "cell_type": "code",
   "execution_count": 41,
   "id": "41443f0d",
   "metadata": {},
   "outputs": [
    {
     "name": "stdout",
     "output_type": "stream",
     "text": [
      "    Gender  Age  EstimatedSalary  Purchased\n",
      "0        1   19            19000          0\n",
      "1        1   35            20000          0\n",
      "2        0   26            43000          0\n",
      "3        0   27            57000          0\n",
      "4        1   19            76000          0\n",
      "5        1   27            58000          0\n",
      "6        0   27            84000          0\n",
      "7        0   32           150000          1\n",
      "8        1   25            33000          0\n",
      "9        0   35            65000          0\n",
      "10       0   26            80000          0\n",
      "11       0   26            52000          0\n",
      "12       1   20            86000          0\n",
      "13       1   32            18000          0\n",
      "14       1   18            82000          0\n",
      "15       1   29            80000          0\n",
      "16       1   47            25000          1\n",
      "17       1   45            26000          1\n",
      "18       1   46            28000          1\n",
      "19       0   48            29000          1\n"
     ]
    }
   ],
   "source": [
    "# encoding 'Gender' to be binary \n",
    "# dropping 'User ID' from df (unnecessary feature)\n",
    "from sklearn import preprocessing\n",
    "\n",
    "l_e = preprocessing.LabelEncoder()\n",
    "\n",
    "df['Gender'] = l_e.fit_transform(df['Gender'])\n",
    "\n",
    "df.drop('User ID', axis=1, inplace=True)\n",
    "\n",
    "print(df.head())"
   ]
  },
  {
   "cell_type": "code",
   "execution_count": 42,
   "id": "5c980b36",
   "metadata": {},
   "outputs": [],
   "source": [
    "#step 3: Normalize the numerical input features \n",
    "\n",
    "# making copy of df\n",
    "scaled_features = df.copy()\n",
    "\n",
    "# determining which cols to scale\n",
    "col_names = ['Age', 'EstimatedSalary']\n",
    "features = scaled_features[col_names]\n",
    "\n",
    "# scale columns \n",
    "scaler = StandardScaler().fit(features.values)\n",
    "features = scaler.transform(features.values)\n",
    "\n",
    "scaled_features[col_names] = features\n",
    "\n",
    "# splitting model into test and train groups \n",
    "from sklearn.model_selection import train_test_split\n",
    "\n",
    "# creating X and y sets \n",
    "X = df.iloc[:,0:3] # gender, age, salary\n",
    "y = df.iloc[:,3]   # purchased \n",
    "\n",
    "# print(X) # print to make sure each contains correct features\n",
    "# print(y)\n"
   ]
  },
  {
   "cell_type": "code",
   "execution_count": 56,
   "id": "2065e634",
   "metadata": {
    "scrolled": true
   },
   "outputs": [
    {
     "name": "stderr",
     "output_type": "stream",
     "text": [
      "/Users/katherinekuenster/opt/anaconda3/lib/python3.9/site-packages/sklearn/ensemble/_forest.py:541: UserWarning: Some inputs do not have OOB scores. This probably means too few trees were used to compute any reliable oob estimates.\n",
      "  warn(\"Some inputs do not have OOB scores. \"\n",
      "/Users/katherinekuenster/opt/anaconda3/lib/python3.9/site-packages/sklearn/ensemble/_forest.py:545: RuntimeWarning: invalid value encountered in true_divide\n",
      "  decision = (predictions[k] /\n",
      "/Users/katherinekuenster/opt/anaconda3/lib/python3.9/site-packages/sklearn/ensemble/_forest.py:541: UserWarning: Some inputs do not have OOB scores. This probably means too few trees were used to compute any reliable oob estimates.\n",
      "  warn(\"Some inputs do not have OOB scores. \"\n",
      "/Users/katherinekuenster/opt/anaconda3/lib/python3.9/site-packages/sklearn/ensemble/_forest.py:545: RuntimeWarning: invalid value encountered in true_divide\n",
      "  decision = (predictions[k] /\n",
      "/Users/katherinekuenster/opt/anaconda3/lib/python3.9/site-packages/sklearn/ensemble/_forest.py:541: UserWarning: Some inputs do not have OOB scores. This probably means too few trees were used to compute any reliable oob estimates.\n",
      "  warn(\"Some inputs do not have OOB scores. \"\n",
      "/Users/katherinekuenster/opt/anaconda3/lib/python3.9/site-packages/sklearn/ensemble/_forest.py:545: RuntimeWarning: invalid value encountered in true_divide\n",
      "  decision = (predictions[k] /\n"
     ]
    },
    {
     "name": "stdout",
     "output_type": "stream",
     "text": [
      "15 0.14643\n",
      "16 0.125\n",
      "17 0.10714\n",
      "18 0.12143\n",
      "19 0.13571\n",
      "20 0.125\n",
      "21 0.12857\n",
      "22 0.125\n",
      "23 0.12857\n",
      "24 0.11786\n",
      "25 0.13214\n",
      "26 0.1\n",
      "27 0.11786\n",
      "28 0.12857\n",
      "29 0.13214\n",
      "30 0.125\n",
      "31 0.11071\n",
      "32 0.11429\n",
      "33 0.12143\n",
      "34 0.12857\n",
      "35 0.1\n",
      "36 0.11071\n",
      "37 0.12143\n",
      "38 0.11786\n",
      "39 0.11071\n",
      "40 0.12143\n",
      "41 0.13214\n",
      "42 0.10714\n",
      "43 0.11786\n",
      "44 0.10714\n",
      "45 0.11071\n",
      "46 0.11786\n",
      "47 0.11429\n",
      "48 0.11429\n",
      "49 0.11429\n",
      "50 0.11429\n",
      "51 0.11786\n",
      "52 0.11429\n",
      "53 0.11786\n",
      "54 0.11786\n",
      "55 0.1\n",
      "56 0.11429\n",
      "57 0.09643\n",
      "58 0.09643\n",
      "59 0.11429\n",
      "60 0.10357\n",
      "61 0.11071\n",
      "62 0.10714\n",
      "63 0.11786\n",
      "64 0.1\n",
      "65 0.11786\n",
      "66 0.10714\n",
      "67 0.11071\n",
      "68 0.11429\n",
      "69 0.11071\n",
      "70 0.12143\n",
      "71 0.10714\n",
      "72 0.11071\n",
      "73 0.09643\n",
      "74 0.11071\n",
      "75 0.10714\n",
      "76 0.10714\n",
      "77 0.125\n",
      "78 0.11429\n",
      "79 0.11786\n",
      "80 0.12143\n",
      "81 0.11429\n",
      "82 0.10714\n",
      "83 0.11071\n",
      "84 0.1\n",
      "85 0.11071\n",
      "86 0.11786\n",
      "87 0.12143\n",
      "88 0.11071\n",
      "89 0.10357\n",
      "90 0.10357\n",
      "91 0.10714\n",
      "92 0.11071\n",
      "93 0.12143\n",
      "94 0.11429\n",
      "95 0.11429\n",
      "96 0.10357\n",
      "97 0.11429\n",
      "98 0.10714\n",
      "99 0.11071\n",
      "100 0.10357\n",
      "101 0.11071\n",
      "102 0.11786\n",
      "103 0.10357\n",
      "104 0.10357\n",
      "105 0.11786\n",
      "106 0.11071\n",
      "107 0.11071\n",
      "108 0.11429\n",
      "109 0.11071\n",
      "110 0.11071\n",
      "111 0.11071\n",
      "112 0.13214\n",
      "113 0.11071\n",
      "114 0.11071\n",
      "115 0.1\n",
      "116 0.11071\n",
      "117 0.10357\n",
      "118 0.11071\n",
      "119 0.11429\n",
      "120 0.11786\n",
      "121 0.11429\n",
      "122 0.11071\n",
      "123 0.11071\n",
      "124 0.11786\n",
      "125 0.11071\n",
      "126 0.10714\n",
      "127 0.10357\n",
      "128 0.11429\n",
      "129 0.10714\n",
      "130 0.09643\n",
      "131 0.11071\n",
      "132 0.10714\n",
      "133 0.11786\n",
      "134 0.1\n",
      "135 0.11429\n",
      "136 0.11071\n",
      "137 0.11071\n",
      "138 0.12143\n",
      "139 0.11429\n",
      "140 0.11071\n",
      "141 0.10714\n",
      "142 0.10714\n",
      "143 0.11071\n",
      "144 0.11429\n",
      "145 0.10357\n",
      "146 0.10357\n",
      "147 0.11071\n",
      "148 0.10714\n",
      "149 0.11429\n",
      "150 0.11071\n"
     ]
    },
    {
     "name": "stderr",
     "output_type": "stream",
     "text": [
      "/Users/katherinekuenster/opt/anaconda3/lib/python3.9/site-packages/sklearn/ensemble/_forest.py:541: UserWarning: Some inputs do not have OOB scores. This probably means too few trees were used to compute any reliable oob estimates.\n",
      "  warn(\"Some inputs do not have OOB scores. \"\n",
      "/Users/katherinekuenster/opt/anaconda3/lib/python3.9/site-packages/sklearn/ensemble/_forest.py:545: RuntimeWarning: invalid value encountered in true_divide\n",
      "  decision = (predictions[k] /\n"
     ]
    },
    {
     "data": {
      "image/png": "[encoded data removed]",
      "text/plain": [
       "<Figure size 432x288 with 1 Axes>"
      ]
     },
     "metadata": {
      "needs_background": "light"
     },
     "output_type": "display_data"
    }
   ],
   "source": [
    "#step 4: Perform Random Forest Classification using sklearn. Make sure to enable bootstrap and oob_score\n",
    "#step 5: Find the oob error for different numbers of trees. Figure out which parameter sets the number of trees.\n",
    "\n",
    "from sklearn.ensemble import RandomForestClassifier\n",
    "\n",
    "for i in range(15, 151):\n",
    "    forest = RandomForestClassifier(bootstrap=True, oob_score = True, n_estimators =i)\n",
    "    forest.fit(X_train, y_train)\n",
    "    print(i, round(1-forest.oob_score_, 5))\n",
    "\n",
    "#step 6: Plot the oob error vs number of trees. (Similar to example in class) \n",
    "#######  and find the number of trees with the lowest error. If multiple, report all.\n",
    "    \n",
    "import matplotlib.pyplot as plt \n",
    "\n",
    "# creating arrays to be filled with <i, oob error> for <x,y>\n",
    "xs = []\n",
    "ys = []\n",
    "\n",
    "# loop through each i (15-150) and append each <i,oob> to <xs,ys>\n",
    "for i in range(15, 151):\n",
    "    15 <= i <= 150\n",
    "    random_forest = RandomForestClassifier(n_estimators = i, bootstrap = True, oob_score = True)\n",
    "    random_forest.fit(X, y)\n",
    "    oob_error = 1 - random_forest.oob_score_\n",
    "    xs.append(i)\n",
    "    ys.append(oob_error)\n",
    "\n",
    "# plot oob error vs. number trees\n",
    "plt.plot(xs, ys)\n",
    "plt.xlim(15,150)\n",
    "plt.xlabel('n_estimators')\n",
    "plt.ylabel('oob error')\n",
    "plt.show()"
   ]
  },
  {
   "cell_type": "code",
   "execution_count": null,
   "id": "1dbf0195",
   "metadata": {},
   "outputs": [],
   "source": []
  }
 ],
 "metadata": {
  "kernelspec": {
   "display_name": "Python 3 (ipykernel)",
   "language": "python",
   "name": "python3"
  },
  "language_info": {
   "codemirror_mode": {
    "name": "ipython",
    "version": 3
   },
   "file_extension": ".py",
   "mimetype": "text/x-python",
   "name": "python",
   "nbconvert_exporter": "python",
   "pygments_lexer": "ipython3",
   "version": "3.9.7"
  }
 },
 "nbformat": 4,
 "nbformat_minor": 5
}
