{
 "cells": [
  {
   "cell_type": "code",
   "execution_count": 21,
   "id": "e440c858",
   "metadata": {},
   "outputs": [
    {
     "name": "stdout",
     "output_type": "stream",
     "text": [
      "      User ID  Gender  Age  EstimatedSalary  Purchased\n",
      "0    15624510    Male   19            19000          0\n",
      "1    15810944    Male   35            20000          0\n",
      "2    15668575  Female   26            43000          0\n",
      "3    15603246  Female   27            57000          0\n",
      "4    15804002    Male   19            76000          0\n",
      "..        ...     ...  ...              ...        ...\n",
      "395  15691863  Female   46            41000          1\n",
      "396  15706071    Male   51            23000          1\n",
      "397  15654296  Female   50            20000          1\n",
      "398  15755018    Male   36            33000          0\n",
      "399  15594041  Female   49            36000          1\n",
      "\n",
      "[400 rows x 5 columns]\n"
     ]
    },
    {
     "data": {
      "text/plain": [
       "(400, 5)"
      ]
     },
     "execution_count": 21,
     "metadata": {},
     "output_type": "execute_result"
    }
   ],
   "source": [
    "#step 1: Load the dataset into a pandas DataFrame and print it along with its shape\n",
    "import pandas as pd\n",
    "\n",
    "# creating dataframe containing csv data\n",
    "df = pd.read_csv('Social_Network_Ads.csv')\n",
    "\n",
    "print (df) # printing dataframe\n",
    "\n",
    "df.shape # printing shape"
   ]
  },
  {
   "cell_type": "code",
   "execution_count": 22,
   "id": "7a2f11e0",
   "metadata": {
    "scrolled": true
   },
   "outputs": [
    {
     "data": {
      "text/plain": [
       "User ID             int64\n",
       "Gender             object\n",
       "Age                 int64\n",
       "EstimatedSalary     int64\n",
       "Purchased           int64\n",
       "dtype: object"
      ]
     },
     "execution_count": 22,
     "metadata": {},
     "output_type": "execute_result"
    }
   ],
   "source": [
    "#step 2: Print the column names and the data type of each column\n",
    "df.dtypes"
   ]
  },
  {
   "cell_type": "code",
   "execution_count": 27,
   "id": "d19e46cb",
   "metadata": {},
   "outputs": [
    {
     "name": "stdout",
     "output_type": "stream",
     "text": [
      "     User ID  Gender  Age  EstimatedSalary  Purchased\n",
      "350      377       0   38           113000          1\n",
      "351       38       1   37            75000          0\n",
      "352       34       0   42            90000          1\n",
      "353      299       0   37            57000          0\n",
      "354      213       1   36            99000          1\n",
      "355       70       1   60            34000          1\n",
      "356      342       1   54            70000          1\n",
      "357      160       0   41            72000          0\n",
      "358        6       1   40            71000          1\n",
      "359      227       1   42            54000          0\n",
      "360       14       1   43           129000          1\n",
      "361      343       0   53            34000          1\n",
      "362      323       0   47            50000          1\n",
      "363      325       0   42            79000          0\n",
      "364      131       1   42           104000          1\n",
      "365      385       0   59            29000          1\n",
      "366        8       0   58            47000          1\n",
      "367      159       1   46            88000          1\n",
      "368      346       1   38            71000          0\n",
      "369       98       0   54            26000          1\n",
      "370       78       0   60            46000          1\n",
      "371      334       1   60            83000          1\n",
      "372      104       0   39            73000          0\n",
      "373      226       1   59           130000          1\n",
      "374      365       0   37            80000          0\n",
      "375      121       0   46            32000          1\n",
      "376       54       0   46            74000          0\n",
      "377      376       0   42            53000          0\n",
      "378       15       1   41            87000          1\n",
      "379      297       0   58            23000          1\n",
      "380      183       1   42            64000          0\n",
      "381      157       1   48            33000          1\n",
      "382      238       0   44           139000          1\n",
      "383      223       1   49            28000          1\n",
      "384      383       0   57            33000          1\n",
      "385      336       1   56            60000          1\n",
      "386      251       0   49            39000          1\n",
      "387      100       1   39            71000          0\n",
      "388      164       1   47            34000          1\n",
      "389      154       0   48            35000          1\n",
      "390      386       1   48            33000          1\n",
      "391       41       1   47            23000          1\n",
      "392      295       0   45            45000          1\n",
      "393      109       1   60            42000          1\n",
      "394      308       0   39            59000          0\n",
      "395      196       0   46            41000          1\n",
      "396      220       1   51            23000          1\n",
      "397      130       0   50            20000          1\n",
      "398      305       1   36            33000          0\n",
      "399       45       0   49            36000          1\n"
     ]
    }
   ],
   "source": [
    "# encoding 'Gender' to be binary \n",
    "from sklearn import preprocessing\n",
    "\n",
    "l_e = preprocessing.LabelEncoder()\n",
    "\n",
    "df['Gender'] = l_e.fit_transform(df['Gender'])\n",
    "df['User ID'] = l_e.fit_transform(df['User ID'])\n",
    "print(df.tail(50))"
   ]
  },
  {
   "cell_type": "code",
   "execution_count": 28,
   "id": "5c980b36",
   "metadata": {},
   "outputs": [],
   "source": [
    "#step 3: Normalize the features in the input dataset\n",
    "\n",
    "\n",
    "X = df.iloc[:, [1, 2, 3]].values # we are only going to standardize 'Age', 'EstimatedSalary' \n",
    "y = df.iloc[:, 4].values # target variable is 'Purchase'\n",
    "\n",
    "# splitting model into test and train groups \n",
    "from sklearn.model_selection import train_test_split\n",
    "X_train, X_test, y_train, y_test = train_test_split(X, y, test_size = 0.3, random_state = 44)\n",
    "\n",
    "# using standard scaler for input features \n",
    "from sklearn.preprocessing import StandardScaler\n",
    "sc = StandardScaler()\n",
    "X_train = sc.fit_transform(X_train)\n",
    "X_test = sc.transform(X_test)"
   ]
  },
  {
   "cell_type": "code",
   "execution_count": 32,
   "id": "d57648ca",
   "metadata": {
    "scrolled": true
   },
   "outputs": [
    {
     "name": "stdout",
     "output_type": "stream",
     "text": [
      "15 0.13929\n",
      "16 0.125\n",
      "17 0.12143\n",
      "18 0.13929\n",
      "19 0.13571\n",
      "20 0.12857\n",
      "21 0.11429\n",
      "22 0.11429\n",
      "23 0.11786\n",
      "24 0.125\n",
      "25 0.125\n",
      "26 0.1\n",
      "27 0.125\n",
      "28 0.12143\n",
      "29 0.12143\n",
      "30 0.125\n",
      "31 0.11786\n",
      "32 0.11071\n",
      "33 0.125\n",
      "34 0.11071\n",
      "35 0.12143\n",
      "36 0.11071\n",
      "37 0.11071\n",
      "38 0.1\n",
      "39 0.11071\n",
      "40 0.11429\n",
      "41 0.11786\n",
      "42 0.11786\n",
      "43 0.12143\n",
      "44 0.11786\n",
      "45 0.11429\n",
      "46 0.10714\n",
      "47 0.11786\n",
      "48 0.11071\n",
      "49 0.12143\n",
      "50 0.11429\n",
      "51 0.12143\n",
      "52 0.11071\n",
      "53 0.11786\n",
      "54 0.11429\n",
      "55 0.10714\n",
      "56 0.10714\n",
      "57 0.11786\n",
      "58 0.11429\n",
      "59 0.11786\n",
      "60 0.125\n",
      "61 0.10357\n",
      "62 0.10357\n",
      "63 0.11429\n",
      "64 0.125\n",
      "65 0.10357\n",
      "66 0.1\n",
      "67 0.10714\n",
      "68 0.11071\n",
      "69 0.10714\n",
      "70 0.11429\n",
      "71 0.11429\n",
      "72 0.10714\n",
      "73 0.11071\n",
      "74 0.10714\n",
      "75 0.10714\n",
      "76 0.10357\n",
      "77 0.11071\n",
      "78 0.11071\n",
      "79 0.11786\n",
      "80 0.11786\n",
      "81 0.11429\n",
      "82 0.125\n",
      "83 0.11786\n",
      "84 0.11071\n",
      "85 0.11429\n",
      "86 0.10357\n",
      "87 0.11429\n",
      "88 0.11429\n",
      "89 0.11429\n",
      "90 0.11071\n",
      "91 0.10357\n",
      "92 0.10714\n",
      "93 0.1\n",
      "94 0.10357\n",
      "95 0.10714\n",
      "96 0.10357\n",
      "97 0.11071\n",
      "98 0.11429\n",
      "99 0.10714\n",
      "100 0.11786\n",
      "101 0.10714\n",
      "102 0.11071\n",
      "103 0.11429\n",
      "104 0.11786\n",
      "105 0.11429\n",
      "106 0.1\n",
      "107 0.10714\n",
      "108 0.10714\n",
      "109 0.11429\n",
      "110 0.1\n",
      "111 0.10357\n",
      "112 0.11786\n",
      "113 0.10357\n",
      "114 0.11429\n",
      "115 0.10714\n",
      "116 0.11071\n",
      "117 0.10714\n",
      "118 0.11429\n",
      "119 0.11429\n",
      "120 0.10714\n",
      "121 0.11071\n",
      "122 0.1\n",
      "123 0.10714\n",
      "124 0.10714\n",
      "125 0.11071\n",
      "126 0.10357\n",
      "127 0.11071\n",
      "128 0.11071\n",
      "129 0.11071\n",
      "130 0.11071\n",
      "131 0.10357\n",
      "132 0.11071\n",
      "133 0.10714\n",
      "134 0.10357\n",
      "135 0.11071\n",
      "136 0.11071\n",
      "137 0.10357\n",
      "138 0.11429\n",
      "139 0.10714\n",
      "140 0.11071\n",
      "141 0.10357\n",
      "142 0.10714\n",
      "143 0.11071\n",
      "144 0.11429\n",
      "145 0.1\n",
      "146 0.11071\n",
      "147 0.11429\n",
      "148 0.11429\n",
      "149 0.11071\n"
     ]
    }
   ],
   "source": [
    "#step 4: Perform Random Forest Classification using sklearn. Make sure to enable bootstrap and oob_score\n",
    "#step 5: Find the oob error for different numbers of trees. Figure out which parameter sets the number of trees.\n",
    "for i in range(15, 150):\n",
    "    forest = RandomForestClassifier(bootstrap=True, oob_score = True, n_estimators =i)\n",
    "    forest.fit(X_train, y_train)\n",
    "    print(i, round(1-forest.oob_score_, 5))"
   ]
  },
  {
   "cell_type": "code",
   "execution_count": 34,
   "id": "2065e634",
   "metadata": {},
   "outputs": [
    {
     "ename": "TypeError",
     "evalue": "'module' object is not callable",
     "output_type": "error",
     "traceback": [
      "\u001b[0;31m---------------------------------------------------------------------------\u001b[0m",
      "\u001b[0;31mTypeError\u001b[0m                                 Traceback (most recent call last)",
      "\u001b[0;32m/var/folders/1w/3kfbl5ls2pq7qvtx00p57s540000gn/T/ipykernel_3226/6035645.py\u001b[0m in \u001b[0;36m<module>\u001b[0;34m\u001b[0m\n\u001b[1;32m      4\u001b[0m \u001b[0;32mimport\u001b[0m \u001b[0mmatplotlib\u001b[0m\u001b[0;34m.\u001b[0m\u001b[0mpyplot\u001b[0m \u001b[0;32mas\u001b[0m \u001b[0mplt\u001b[0m\u001b[0;34m\u001b[0m\u001b[0;34m\u001b[0m\u001b[0m\n\u001b[1;32m      5\u001b[0m \u001b[0;34m\u001b[0m\u001b[0m\n\u001b[0;32m----> 6\u001b[0;31m \u001b[0mplt\u001b[0m\u001b[0;34m(\u001b[0m\u001b[0mforest\u001b[0m\u001b[0;34m)\u001b[0m\u001b[0;34m\u001b[0m\u001b[0;34m\u001b[0m\u001b[0m\n\u001b[0m",
      "\u001b[0;31mTypeError\u001b[0m: 'module' object is not callable"
     ]
    }
   ],
   "source": [
    "#step 6: Plot the oob error vs number of trees. (Similar to example in class) \n",
    "#######  and find the number of trees with the lowest error. If multiple, report all.\n",
    "    \n",
    "import matplotlib.pyplot as plt \n"
   ]
  },
  {
   "cell_type": "code",
   "execution_count": null,
   "id": "039e50e3",
   "metadata": {},
   "outputs": [],
   "source": []
  }
 ],
 "metadata": {
  "kernelspec": {
   "display_name": "Python 3 (ipykernel)",
   "language": "python",
   "name": "python3"
  },
  "language_info": {
   "codemirror_mode": {
    "name": "ipython",
    "version": 3
   },
   "file_extension": ".py",
   "mimetype": "text/x-python",
   "name": "python",
   "nbconvert_exporter": "python",
   "pygments_lexer": "ipython3",
   "version": "3.9.7"
  }
 },
 "nbformat": 4,
 "nbformat_minor": 5
}
